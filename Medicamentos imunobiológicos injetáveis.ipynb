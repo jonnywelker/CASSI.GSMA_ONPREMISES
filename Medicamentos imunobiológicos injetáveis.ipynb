{
 "cells": [
  {
   "cell_type": "markdown",
   "metadata": {
    "application/vnd.databricks.v1+cell": {
     "cellMetadata": {
      "byteLimit": 2048000,
      "rowLimit": 10000
     },
     "inputWidgets": {},
     "nuid": "43aff18a-404c-4ca5-9627-56e8f49f10fe",
     "showTitle": false,
     "title": ""
    }
   },
   "source": [
    "### Chamando o SQL serveless para rodar a query"
   ]
  },
  {
   "cell_type": "code",
   "execution_count": 0,
   "metadata": {
    "application/vnd.databricks.v1+cell": {
     "cellMetadata": {
      "byteLimit": 2048000,
      "rowLimit": 10000
     },
     "inputWidgets": {},
     "nuid": "76b80624-94cd-4978-bcec-b1eda5d9e133",
     "showTitle": false,
     "title": ""
    }
   },
   "outputs": [],
   "source": [
    "%run /Workspace/Users/c00010492@cassi.com.br/Demandas/Reembolso/script_personalizado/sqlStatementSqlWarehouse"
   ]
  },
  {
   "cell_type": "code",
   "execution_count": 0,
   "metadata": {
    "application/vnd.databricks.v1+cell": {
     "cellMetadata": {
      "byteLimit": 2048000,
      "rowLimit": 10000
     },
     "inputWidgets": {},
     "nuid": "b9f8d84a-e6e9-4065-8056-f0bce3fad7fc",
     "showTitle": false,
     "title": ""
    }
   },
   "outputs": [],
   "source": [
    "def executeScript(sql):\n",
    "    sql_api = SQLStatementAPI()\n",
    "    return sql_api.execute_sql(sql)"
   ]
  },
  {
   "cell_type": "markdown",
   "metadata": {
    "application/vnd.databricks.v1+cell": {
     "cellMetadata": {
      "byteLimit": 2048000,
      "rowLimit": 10000
     },
     "inputWidgets": {},
     "nuid": "84142e45-d896-4cf8-8147-c23ca03797b0",
     "showTitle": false,
     "title": ""
    }
   },
   "source": [
    "### Tabela Prestador"
   ]
  },
  {
   "cell_type": "code",
   "execution_count": 0,
   "metadata": {
    "application/vnd.databricks.v1+cell": {
     "cellMetadata": {
      "byteLimit": 2048000,
      "rowLimit": 10000
     },
     "inputWidgets": {},
     "nuid": "3faa909a-ea9e-4384-bbd6-0edc6d891783",
     "showTitle": false,
     "title": ""
    }
   },
   "outputs": [
    {
     "output_type": "stream",
     "name": "stdout",
     "output_type": "stream",
     "text": [
      "query será realizada no banco:SQLSCIENCE_001\n"
     ]
    },
    {
     "output_type": "execute_result",
     "data": {
      "text/html": [
       "<div>\n",
       "<style scoped>\n",
       "    .dataframe tbody tr th:only-of-type {\n",
       "        vertical-align: middle;\n",
       "    }\n",
       "\n",
       "    .dataframe tbody tr th {\n",
       "        vertical-align: top;\n",
       "    }\n",
       "\n",
       "    .dataframe thead th {\n",
       "        text-align: right;\n",
       "    }\n",
       "</style>\n",
       "<table border=\"1\" class=\"dataframe\">\n",
       "  <thead>\n",
       "    <tr style=\"text-align: right;\">\n",
       "      <th></th>\n",
       "      <th>num_affected_rows</th>\n",
       "      <th>num_inserted_rows</th>\n",
       "    </tr>\n",
       "  </thead>\n",
       "  <tbody>\n",
       "  </tbody>\n",
       "</table>\n",
       "</div>"
      ],
      "text/plain": [
       "Empty DataFrame\n",
       "Columns: [num_affected_rows, num_inserted_rows]\n",
       "Index: []"
      ]
     },
     "execution_count": 3,
     "metadata": {},
     "output_type": "execute_result"
    }
   ],
   "source": [
    "sql = \"\"\"\n",
    "\n",
    "create or replace table mldata.default.medicamentos_imunobiologicos_injetaveis_tb_prestador as\n",
    "               \n",
    "SELECT DISTINCT\n",
    "\n",
    "PRE.PRESTADOR AS COD_PRESTADOR,\n",
    "PRE.HANDLE AS HANDLE_PRESTADOR,\n",
    "PRE.CPFCNPJ AS CPF_CNPJ,\n",
    "PRE.DATACREDENCIAMENTO AS DATA_CREDENCIAMENTO,\n",
    "PRE.NOME AS PRESTADOR,\n",
    "PRE.FANTASIA AS NOME_FANTASIA,\n",
    "TPR.DESCRICAO AS TIPO_PRESTADOR,\n",
    "ESP.DESCRICAO AS ESPECIALIDADE_PRESTADOR,\n",
    "PREEND.LOGRADOURO,\n",
    "PREEND.NUMERO,\n",
    "PREEND.COMPLEMENTO,\n",
    "PREEND.BAIRRO,\n",
    "MUN.NOME AS MUNI_PREST,\n",
    "E.SIGLA AS UF_PREST,\n",
    "PREEND.CEP,\n",
    "PREEND.DDDTELEFONE1||' - '||PREEND.TELEFONE1 AS TELEFONE1,\n",
    "PREEND.DDDTELEFONE1||' - '||PREEND.TELEFONE1 AS TELEFONE2,\n",
    "PREEND.DDDCELULAR||' - '||PREEND.CELULAR AS CELULAR\n",
    "\n",
    "FROM silver.soc.SAM_PRESTADOR \t\t\t\t             PRE \n",
    "LEFT JOIN silver.soc.SAM_PRESTADOR_ENDERECO        PREEND ON PREEND.PRESTADOR = PRE.HANDLE\n",
    "LEFT JOIN silver.soc.ESTADOS \t\t\t\t\t             E ON E.HANDLE = PRE.ESTADOPAGAMENTO\n",
    "LEFT JOIN silver.soc.MUNICIPIOS \t\t\t\t           MUN ON MUN.HANDLE = PRE.MUNICIPIOPAGAMENTO\n",
    "LEFT JOIN silver.soc.SAM_TIPOPRESTADOR \t\t         TPR ON PRE.TIPOPRESTADOR = TPR.HANDLE\n",
    "JOIN silver.soc.SAM_PRESTADOR_ESPECIALIDADE        PESP ON PESP.PRESTADOR = PRE.HANDLE\n",
    "JOIN silver.soc.SAM_ESPECIALIDADE                  ESP ON ESP.HANDLE = PESP.ESPECIALIDADE\n",
    "\n",
    "WHERE\n",
    "PRE.DATADESCREDENCIAMENTO IS NULL\n",
    "\n",
    "ORDER BY\n",
    "HANDLE_PRESTADOR\n",
    "               \n",
    "\"\"\"\n",
    "\n",
    "executeScript(sql)"
   ]
  },
  {
   "cell_type": "markdown",
   "metadata": {
    "application/vnd.databricks.v1+cell": {
     "cellMetadata": {
      "byteLimit": 2048000,
      "rowLimit": 10000
     },
     "inputWidgets": {},
     "nuid": "e4df462d-7906-471c-815e-720f4afed1af",
     "showTitle": false,
     "title": ""
    }
   },
   "source": [
    "### Tabela Participantes"
   ]
  },
  {
   "cell_type": "code",
   "execution_count": 0,
   "metadata": {
    "application/vnd.databricks.v1+cell": {
     "cellMetadata": {
      "byteLimit": 2048000,
      "rowLimit": 10000
     },
     "inputWidgets": {},
     "nuid": "ae06fc92-15e8-4d17-a86a-0f35998a8a10",
     "showTitle": false,
     "title": ""
    }
   },
   "outputs": [
    {
     "output_type": "stream",
     "name": "stdout",
     "output_type": "stream",
     "text": [
      "query será realizada no banco:SQLSCIENCE_001\n"
     ]
    },
    {
     "output_type": "execute_result",
     "data": {
      "text/html": [
       "<div>\n",
       "<style scoped>\n",
       "    .dataframe tbody tr th:only-of-type {\n",
       "        vertical-align: middle;\n",
       "    }\n",
       "\n",
       "    .dataframe tbody tr th {\n",
       "        vertical-align: top;\n",
       "    }\n",
       "\n",
       "    .dataframe thead th {\n",
       "        text-align: right;\n",
       "    }\n",
       "</style>\n",
       "<table border=\"1\" class=\"dataframe\">\n",
       "  <thead>\n",
       "    <tr style=\"text-align: right;\">\n",
       "      <th></th>\n",
       "      <th>num_affected_rows</th>\n",
       "      <th>num_inserted_rows</th>\n",
       "    </tr>\n",
       "  </thead>\n",
       "  <tbody>\n",
       "  </tbody>\n",
       "</table>\n",
       "</div>"
      ],
      "text/plain": [
       "Empty DataFrame\n",
       "Columns: [num_affected_rows, num_inserted_rows]\n",
       "Index: []"
      ]
     },
     "execution_count": 4,
     "metadata": {},
     "output_type": "execute_result"
    }
   ],
   "source": [
    "sql = \"\"\"\n",
    "\n",
    "create or replace table mldata.default.medicamentos_imunobiologicos_injetaveis_tb_participante as\n",
    "               \n",
    "SELECT DISTINCT\n",
    "\n",
    "--PARTICIPANTE E PLANO\n",
    "GUI.GUIA,\n",
    "BEN.NOME AS BENEFICIARIO,\n",
    "BEN.MATRICULACASSI AS MATRICULA,\n",
    "DATEDIFF(YEAR, MAT.DATANASCIMENTO, GETDATE()) AS IDADE,\n",
    "LOWER(BEN.EMAIL) AS EMAIL,\n",
    "DDDF.CODIGODDD ||' - '|| SEN.TELEFONE1 AS TELEFONE_FIXO,\n",
    "DDDC.CODIGODDD ||' - '|| SEN.CELULAR AS TELEFONE_CELULAR,\n",
    "\n",
    "CASE\n",
    "\tWHEN MAT.SEXO = 'F' THEN 'FEMININO'\n",
    "\tWHEN MAT.SEXO = 'M' THEN 'MASCULINO'\n",
    "\tELSE 'OUTROS'\n",
    "END AS SEXO,\n",
    "\n",
    "SEN.LOGRADOURO,\n",
    "SEN.NUMERO,\n",
    "SEN.COMPLEMENTO,\n",
    "SEN.BAIRRO,\n",
    "MUN.NOME AS MUNICIPIO,\n",
    "EST.SIGLA AS UF,\n",
    "SEN.CEP, \n",
    "UPPER(SCGRUP.DESCRICAO) AS GRUPO_PLANO, \n",
    "CON.CONTRATO||' - '||UPPER(CON.CONTRATANTE) AS PLANO,\n",
    "\n",
    "--PRESTADOR\n",
    "PRE.HANDLE AS HANDLE_PRESTADOR,\n",
    "PRE.PRESTADOR AS COD_PRESTADOR,\n",
    "SRA.DESCRICAO AS TIPO_ATENDIMENTO,\n",
    "SFA.DESCRICAO AS FINALIDADE_ATENDIMENTO,\n",
    "\n",
    "--MEDICAMENTO/QUANTIDADE/CUSTO\n",
    "GEV.DESCRICAOIMPORTADA AS MEDICAMENTO,\n",
    "GEV.QTDAPRESENTADA AS QT_SOLICITADA,\n",
    "GEV.QTDGLOSADA AS QT_GLOSADA,\n",
    "GEV.QTDPAGTO AS QT_PAGA,\n",
    "GEV.VALORAPRESENTADO AS TOTAL_PREVISTO,\n",
    "(GEV.VALORAPRESENTADO - GEV.VALORGLOSADO) AS VALOR_PAGO,\n",
    "AUT.DATAAUTORIZACAO AS DATA_AUTORIZACAO,\n",
    "GEV.DATAATENDIMENTO AS DATA_ATENDIMENTO,\n",
    "CLA.DESCRICAO,\n",
    "UNI.DESCRICAO || '-' || UNI.DESCRICAODETALHADA AS UNIDADE_MED\n",
    "\n",
    "\n",
    "FROM silver.soc.SAM_GUIA                                 GUI\n",
    "JOIN silver.soc.SAM_GUIA_EVENTOS                         GEV ON GEV.GUIA = GUI.HANDLE\n",
    "JOIN silver.soc.SAM_TGE                                  TGE ON TGE.HANDLE = GEV.EVENTO\n",
    "JOIN silver.soc.SAM_CLASSEEVENTO \t\t\t\t\t\t             CLA ON CLA.HANDLE = TGE.CLASSEEVENTO\n",
    "LEFT JOIN silver.soc.SAM_AUTORIZ                         AUT ON AUT.HANDLE = GUI.AUTORIZACAO\n",
    "LEFT JOIN silver.soc.SAM_AUTORIZ_EVENTOSOLICIT           AES ON AES.AUTORIZACAO = AUT.HANDLE\n",
    "LEFT JOIN silver.soc.SAM_AUTORIZ_EVENTOGERADO            EG  ON EG.EVENTOSOLICITADO = AES.HANDLE\n",
    "JOIN silver.soc.SAM_TGE  \t\t\t\t\t\t\t                  TGEG ON TGEG.HANDLE = EG.EVENTOGERADO\n",
    "LEFT JOIN silver.soc.SAM_PRESTADOR                       PRE ON PRE.HANDLE = AUT.LOCALEXECUCAO\n",
    "LEFT JOIN silver.soc.SAM_TIPOPRESTADOR \t\t\t\t         TPRES ON TPRES.HANDLE = PRE.TIPOPRESTADOR\n",
    "LEFT JOIN silver.soc.SAM_REGIMEATENDIMENTO               SRA ON SRA.HANDLE = AUT.REGIMEATENDIMENTO\n",
    "LEFT JOIN silver.soc.SAM_FINALIDADEATENDIMENTO \t\t\t     SFA ON SFA.HANDLE = AUT.FINALIDADEATENDIMENTO\n",
    "JOIN silver.soc.SAM_BENEFICIARIO                         BEN ON BEN.HANDLE = AUT.BENEFICIARIO\n",
    "JOIN silver.soc.SAM_MATRICULA \t\t\t\t\t\t\t             MAT ON MAT.HANDLE = BEN.MATRICULA\n",
    "JOIN silver.soc.SAM_ENDERECO                             SEN ON SEN.HANDLE = BEN.ENDERECORESIDENCIAL\n",
    "LEFT JOIN silver.soc.SAM_DDD \t\t\t\t\t\t                DDDF ON DDDF.HANDLE = SEN.DDDTELEFONE1\n",
    "LEFT JOIN silver.soc.SAM_DDD \t\t\t\t\t\t                DDDC ON DDDC.HANDLE = SEN.DDDCELULAR\n",
    "JOIN silver.soc.MUNICIPIOS \t\t\t\t\t\t\t\t               MUN ON MUN.HANDLE = SEN.MUNICIPIO\n",
    "JOIN silver.soc.ESTADOS                   \t   \t\t   \t   EST ON EST.HANDLE = SEN.ESTADO\n",
    "JOIN silver.soc.SAM_CONTRATO                             CON ON CON.HANDLE = BEN.CONTRATO\n",
    "JOIN silver.soc.SAM_GRUPOCONTRATO \t\t\t\t\t\t\t\t\t\t\tSCGRUP ON SCGRUP.HANDLE = CON.GRUPOCONTRATO\n",
    "JOIN silver.soc.TIS_UNIDADEMEDIDA\t\t\t\t\t\t            UNI ON UNI.HANDLE = GEV.UNIDADEMEDIDA\n",
    "\n",
    "\n",
    "WHERE GEV.DATAATENDIMENTO >= '2021-01-01' --AND  GEV.DATAATENDIMENTO <= '2022-12-31'\n",
    "AND CLA.DESCRICAO = '087 - IMUNOBIOLÓGICO INJETÁVEL'\n",
    "\n",
    "ORDER BY 24\n",
    "               \n",
    "\"\"\"\n",
    "\n",
    "executeScript(sql)"
   ]
  }
 ],
 "metadata": {
  "application/vnd.databricks.v1+notebook": {
   "dashboards": [],
   "language": "python",
   "notebookMetadata": {
    "pythonIndentUnit": 4
   },
   "notebookName": "Medicamentos imunobiológicos injetáveis",
   "widgets": {}
  }
 },
 "nbformat": 4,
 "nbformat_minor": 0
}

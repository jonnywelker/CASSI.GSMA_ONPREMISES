{
 "cells": [
  {
   "cell_type": "markdown",
   "metadata": {
    "application/vnd.databricks.v1+cell": {
     "cellMetadata": {
      "byteLimit": 2048000,
      "rowLimit": 10000
     },
     "inputWidgets": {},
     "nuid": "d585d7c2-88ff-4321-ad85-9901dc5e53ce",
     "showTitle": false,
     "title": ""
    }
   },
   "source": [
    "### Chamando o SQL serveless para rodar a query"
   ]
  },
  {
   "cell_type": "code",
   "execution_count": 0,
   "metadata": {
    "application/vnd.databricks.v1+cell": {
     "cellMetadata": {
      "byteLimit": 2048000,
      "rowLimit": 10000
     },
     "inputWidgets": {},
     "nuid": "43f38214-5c86-454b-99e9-ad58ca7e2d1f",
     "showTitle": false,
     "title": ""
    }
   },
   "outputs": [],
   "source": [
    "%run /Workspace/Users/c00010492@cassi.com.br/Demandas/Reembolso/script_personalizado/sqlStatementSqlWarehouse"
   ]
  },
  {
   "cell_type": "code",
   "execution_count": 0,
   "metadata": {
    "application/vnd.databricks.v1+cell": {
     "cellMetadata": {
      "byteLimit": 2048000,
      "rowLimit": 10000
     },
     "inputWidgets": {},
     "nuid": "71acebd2-256a-4a8a-8d33-9f01cac8e0c5",
     "showTitle": false,
     "title": ""
    }
   },
   "outputs": [],
   "source": [
    "def executeScript(sql):\n",
    "    sql_api = SQLStatementAPI()\n",
    "    return sql_api.execute_sql(sql)"
   ]
  },
  {
   "cell_type": "markdown",
   "metadata": {
    "application/vnd.databricks.v1+cell": {
     "cellMetadata": {
      "byteLimit": 2048000,
      "rowLimit": 10000
     },
     "inputWidgets": {},
     "nuid": "4ef03404-c828-42e3-93f5-ef75786f34cd",
     "showTitle": false,
     "title": ""
    }
   },
   "source": [
    "### Tabela: Pesquisa Avaliação"
   ]
  },
  {
   "cell_type": "code",
   "execution_count": 0,
   "metadata": {
    "application/vnd.databricks.v1+cell": {
     "cellMetadata": {
      "byteLimit": 2048000,
      "rowLimit": 10000
     },
     "inputWidgets": {},
     "nuid": "41b945f4-9de7-481e-89e0-35afcb2e75fd",
     "showTitle": false,
     "title": ""
    }
   },
   "outputs": [
    {
     "output_type": "stream",
     "name": "stdout",
     "output_type": "stream",
     "text": [
      "query será realizada no banco:SQLSCIENCE_001\n"
     ]
    },
    {
     "output_type": "execute_result",
     "data": {
      "text/html": [
       "<div>\n",
       "<style scoped>\n",
       "    .dataframe tbody tr th:only-of-type {\n",
       "        vertical-align: middle;\n",
       "    }\n",
       "\n",
       "    .dataframe tbody tr th {\n",
       "        vertical-align: top;\n",
       "    }\n",
       "\n",
       "    .dataframe thead th {\n",
       "        text-align: right;\n",
       "    }\n",
       "</style>\n",
       "<table border=\"1\" class=\"dataframe\">\n",
       "  <thead>\n",
       "    <tr style=\"text-align: right;\">\n",
       "      <th></th>\n",
       "      <th>num_affected_rows</th>\n",
       "      <th>num_inserted_rows</th>\n",
       "    </tr>\n",
       "  </thead>\n",
       "  <tbody>\n",
       "  </tbody>\n",
       "</table>\n",
       "</div>"
      ],
      "text/plain": [
       "Empty DataFrame\n",
       "Columns: [num_affected_rows, num_inserted_rows]\n",
       "Index: []"
      ]
     },
     "execution_count": 3,
     "metadata": {},
     "output_type": "execute_result"
    }
   ],
   "source": [
    "sql = \"\"\"\n",
    "\n",
    "create or replace table mldata.default.central_cassi_nota_ura_pesquisa_avaliacao\n",
    "\n",
    "select distinct\n",
    "av.grupodac,\n",
    "UPPER(us.nome) AS NOME,\n",
    "lo.usuario,\n",
    "av.nota,\n",
    "LO.ATENDIMENTO,\n",
    "ca.protocoloans,\n",
    "CA.NUMERO,\n",
    "us.cpf,\n",
    "ca.telefonecontato,\n",
    "ca.interlocutor,\n",
    "ca.DATAHORAINICIAL,\n",
    "ca.DATAHORAFINAL\n",
    "\n",
    "from silver.soc.ca_atend CA \n",
    "left JOIN silver.soc.ca_atend_log LO ON LO.ATENDIMENTO = CA.HANDLE\n",
    "left JOIN silver.soc.ca_atend_avaliacao AV ON AV.PROTOCOLO = CA.HANDLE\n",
    "JOIN silver.soc.z_grupousuarios US ON US.HANDLE = LO.USUARIO\n",
    "\n",
    "where\n",
    "lo.USUARIO <> '9521'\n",
    "and CA.DATAHORAINICIAL >= '2023-01-01'\n",
    "\n",
    "\"\"\"\n",
    "\n",
    "executeScript(sql)"
   ]
  },
  {
   "cell_type": "markdown",
   "metadata": {
    "application/vnd.databricks.v1+cell": {
     "cellMetadata": {
      "byteLimit": 2048000,
      "rowLimit": 10000
     },
     "inputWidgets": {},
     "nuid": "cb11f452-580b-4ed8-8094-afa320210dde",
     "showTitle": false,
     "title": ""
    }
   },
   "source": [
    "### Tabela: Cadastro"
   ]
  },
  {
   "cell_type": "code",
   "execution_count": 0,
   "metadata": {
    "application/vnd.databricks.v1+cell": {
     "cellMetadata": {
      "byteLimit": 2048000,
      "rowLimit": 10000
     },
     "inputWidgets": {},
     "nuid": "86b80c1a-9937-4dda-b950-8cb5031f64ca",
     "showTitle": false,
     "title": ""
    }
   },
   "outputs": [
    {
     "output_type": "stream",
     "name": "stdout",
     "output_type": "stream",
     "text": [
      "query será realizada no banco:SQLSCIENCE_001\n"
     ]
    },
    {
     "output_type": "execute_result",
     "data": {
      "text/html": [
       "<div>\n",
       "<style scoped>\n",
       "    .dataframe tbody tr th:only-of-type {\n",
       "        vertical-align: middle;\n",
       "    }\n",
       "\n",
       "    .dataframe tbody tr th {\n",
       "        vertical-align: top;\n",
       "    }\n",
       "\n",
       "    .dataframe thead th {\n",
       "        text-align: right;\n",
       "    }\n",
       "</style>\n",
       "<table border=\"1\" class=\"dataframe\">\n",
       "  <thead>\n",
       "    <tr style=\"text-align: right;\">\n",
       "      <th></th>\n",
       "      <th>num_affected_rows</th>\n",
       "      <th>num_inserted_rows</th>\n",
       "    </tr>\n",
       "  </thead>\n",
       "  <tbody>\n",
       "  </tbody>\n",
       "</table>\n",
       "</div>"
      ],
      "text/plain": [
       "Empty DataFrame\n",
       "Columns: [num_affected_rows, num_inserted_rows]\n",
       "Index: []"
      ]
     },
     "execution_count": 4,
     "metadata": {},
     "output_type": "execute_result"
    }
   ],
   "source": [
    "sql = \"\"\"\n",
    "\n",
    "create or replace table mldata.default.central_cassi_nota_ura_cadastro\n",
    "\n",
    "SELECT\n",
    "\n",
    "CO.CO_COLABORADOR,\n",
    "CO.NO_COLABORADOR,\n",
    "CO.NU_CPF_COLABORADOR,\n",
    "CO.DS_LIDER,\n",
    "CO.DS_CARGO,\n",
    "CO.DS_ESCALA,\n",
    "CO.DS_CAMPANHA,\n",
    "CO.DS_ATENDIMENTO_ESPECIFICO,\n",
    "GD.CO_GRUPO_DAC\n",
    "\n",
    "FROM gold.dw.TF_CNT_PRODUTIVIDADE    TF\n",
    "JOIN gold.dw.TD_CNT_COLABORADOR      CO ON CO.SK_TD_CNT_COLABORADOR = TF.SK_TD_CNT_COLABORADOR\n",
    "JOIN gold.dw.TD_CNT_GRUPO_SUPERVISAO GS ON GS.SK_TD_CNT_GRUPO_SUPERVISAO = TF.SK_TD_CNT_GRUPO_SUPERVISAO\n",
    "JOIN gold.dw.TD_CNT_GRUPO_DAC        GD ON GD.SK_TD_CNT_GRUPO_DAC = TF.SK_TD_CNT_GRUPO_DAC\n",
    "JOIN gold.dw.TD_TEMPO                TA ON TA.SK_TD_TEMPO = TF.SK_TD_TEMPO_ATENDIMENTO\n",
    "\n",
    "where\n",
    "TA.DT_COMPLETA >= '2023-01-01'\n",
    "\"\"\"\n",
    "\n",
    "executeScript(sql)"
   ]
  }
 ],
 "metadata": {
  "application/vnd.databricks.v1+notebook": {
   "dashboards": [],
   "language": "python",
   "notebookMetadata": {
    "pythonIndentUnit": 4
   },
   "notebookName": "Central Cassi - Nota URA",
   "widgets": {}
  }
 },
 "nbformat": 4,
 "nbformat_minor": 0
}

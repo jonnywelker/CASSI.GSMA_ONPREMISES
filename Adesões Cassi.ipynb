{
 "cells": [
  {
   "cell_type": "markdown",
   "metadata": {
    "application/vnd.databricks.v1+cell": {
     "cellMetadata": {
      "byteLimit": 2048000,
      "rowLimit": 10000
     },
     "inputWidgets": {},
     "nuid": "c9282ef0-70e2-44c0-a212-04ba3842c286",
     "showTitle": false,
     "title": ""
    }
   },
   "source": [
    "### Chamando o SQL serveless para rodar a query"
   ]
  },
  {
   "cell_type": "code",
   "execution_count": 0,
   "metadata": {
    "application/vnd.databricks.v1+cell": {
     "cellMetadata": {
      "byteLimit": 2048000,
      "rowLimit": 10000
     },
     "inputWidgets": {},
     "nuid": "d0eafa27-5838-4042-9827-8c5fe5fe7d9a",
     "showTitle": false,
     "title": ""
    }
   },
   "outputs": [],
   "source": [
    "%run /Workspace/Users/c00010492@cassi.com.br/Demandas/Reembolso/script_personalizado/sqlStatementSqlWarehouse"
   ]
  },
  {
   "cell_type": "code",
   "execution_count": 0,
   "metadata": {
    "application/vnd.databricks.v1+cell": {
     "cellMetadata": {
      "byteLimit": 2048000,
      "rowLimit": 10000
     },
     "inputWidgets": {},
     "nuid": "326427d8-550b-4418-b46d-234a8e2bf2da",
     "showTitle": false,
     "title": ""
    }
   },
   "outputs": [],
   "source": [
    "def executeScript(sql):\n",
    "    sql_api = SQLStatementAPI()\n",
    "    return sql_api.execute_sql(sql)"
   ]
  },
  {
   "cell_type": "markdown",
   "metadata": {
    "application/vnd.databricks.v1+cell": {
     "cellMetadata": {
      "byteLimit": 2048000,
      "rowLimit": 10000
     },
     "inputWidgets": {},
     "nuid": "5d601eb7-be67-404d-9295-0ef7fa650265",
     "showTitle": false,
     "title": ""
    }
   },
   "source": [
    "### Tabela: Centro Custo"
   ]
  },
  {
   "cell_type": "code",
   "execution_count": 0,
   "metadata": {
    "application/vnd.databricks.v1+cell": {
     "cellMetadata": {
      "byteLimit": 2048000,
      "rowLimit": 10000
     },
     "inputWidgets": {},
     "nuid": "9ae39a99-7477-4532-90a6-2256e0da843d",
     "showTitle": false,
     "title": ""
    }
   },
   "outputs": [
    {
     "output_type": "stream",
     "name": "stdout",
     "output_type": "stream",
     "text": [
      "query será realizada no banco:SQLSCIENCE_001\n"
     ]
    },
    {
     "output_type": "execute_result",
     "data": {
      "text/html": [
       "<div>\n",
       "<style scoped>\n",
       "    .dataframe tbody tr th:only-of-type {\n",
       "        vertical-align: middle;\n",
       "    }\n",
       "\n",
       "    .dataframe tbody tr th {\n",
       "        vertical-align: top;\n",
       "    }\n",
       "\n",
       "    .dataframe thead th {\n",
       "        text-align: right;\n",
       "    }\n",
       "</style>\n",
       "<table border=\"1\" class=\"dataframe\">\n",
       "  <thead>\n",
       "    <tr style=\"text-align: right;\">\n",
       "      <th></th>\n",
       "      <th>num_affected_rows</th>\n",
       "      <th>num_inserted_rows</th>\n",
       "    </tr>\n",
       "  </thead>\n",
       "  <tbody>\n",
       "  </tbody>\n",
       "</table>\n",
       "</div>"
      ],
      "text/plain": [
       "Empty DataFrame\n",
       "Columns: [num_affected_rows, num_inserted_rows]\n",
       "Index: []"
      ]
     },
     "execution_count": 3,
     "metadata": {},
     "output_type": "execute_result"
    }
   ],
   "source": [
    "sql = \"\"\"\n",
    "\n",
    "create or replace table mldata.default.adesoes_cassi_centro_custo as\n",
    "\n",
    "SELECT DISTINCT \n",
    "   C.CO_CENTRO_CUSTO\n",
    "  ,C.DS_TIPO_CASSI\n",
    "  FROM GOLD.DW.TD_CENTRO_CUSTO_LUCRO_SGE C\n",
    "\n",
    "\"\"\"\n",
    "\n",
    "executeScript(sql)"
   ]
  },
  {
   "cell_type": "markdown",
   "metadata": {
    "application/vnd.databricks.v1+cell": {
     "cellMetadata": {
      "byteLimit": 2048000,
      "rowLimit": 10000
     },
     "inputWidgets": {},
     "nuid": "43afaa96-30e3-406e-95ea-50fc9f3e7788",
     "showTitle": false,
     "title": ""
    }
   },
   "source": [
    "### Tabela: Propostas adesao cassi familia essencial"
   ]
  },
  {
   "cell_type": "code",
   "execution_count": 0,
   "metadata": {
    "application/vnd.databricks.v1+cell": {
     "cellMetadata": {
      "byteLimit": 2048000,
      "rowLimit": 10000
     },
     "inputWidgets": {},
     "nuid": "22be9f77-11f7-48c8-b732-6734fc99e848",
     "showTitle": false,
     "title": ""
    }
   },
   "outputs": [
    {
     "output_type": "stream",
     "name": "stdout",
     "output_type": "stream",
     "text": [
      "query será realizada no banco:SQLSCIENCE_001\n"
     ]
    },
    {
     "output_type": "execute_result",
     "data": {
      "text/html": [
       "<div>\n",
       "<style scoped>\n",
       "    .dataframe tbody tr th:only-of-type {\n",
       "        vertical-align: middle;\n",
       "    }\n",
       "\n",
       "    .dataframe tbody tr th {\n",
       "        vertical-align: top;\n",
       "    }\n",
       "\n",
       "    .dataframe thead th {\n",
       "        text-align: right;\n",
       "    }\n",
       "</style>\n",
       "<table border=\"1\" class=\"dataframe\">\n",
       "  <thead>\n",
       "    <tr style=\"text-align: right;\">\n",
       "      <th></th>\n",
       "      <th>num_affected_rows</th>\n",
       "      <th>num_inserted_rows</th>\n",
       "    </tr>\n",
       "  </thead>\n",
       "  <tbody>\n",
       "  </tbody>\n",
       "</table>\n",
       "</div>"
      ],
      "text/plain": [
       "Empty DataFrame\n",
       "Columns: [num_affected_rows, num_inserted_rows]\n",
       "Index: []"
      ]
     },
     "execution_count": 4,
     "metadata": {},
     "output_type": "execute_result"
    }
   ],
   "source": [
    "sql = \"\"\"\n",
    "\n",
    "create or replace table mldata.default.adesoes_cassi_proposta_adesao_cassi_familia_essencial as\n",
    "\n",
    "--PROPOSTAS_ADESAO_CASSI_FAMILIA\n",
    "SELECT DISTINCT\n",
    "\n",
    "L.SG_ESTADO UF,\n",
    "F.CO_PROTOCOLO,\n",
    "PR.NO_PROPONENTE,\n",
    "PR.DT_NASCIMENTO,\n",
    "PR.NU_CPF,\n",
    "TE.DT_COMPLETA                   DT_ENVIO_PROPOSTA,\n",
    "TC.DT_COMPLETA\t\t\t\t\t DT_COMPETENCIA,\n",
    "PS.DS_SITUACAO_PROPOSTA,\n",
    "P.NO_BENEFICIARIO\t\t\t\t NOME_INDICADOR,\n",
    "P.NU_MATRICULA_CASSI\t\t\t MATRICULA_INDICADOR,\n",
    "P.NU_CPF_BENEFICIARIO,\n",
    "TS.DT_COMPLETA\t\t\t\t\t DT_SIT_PROPOSTA,\n",
    "F.ST_ORIGEM,\n",
    "F.NU_IDADE,\n",
    "\n",
    "CASE \n",
    "\tWHEN PR.CO_TIPO_SEXO = 'F' THEN 'Feminino'\n",
    "\tWHEN PR.CO_TIPO_SEXO = 'M' THEN 'Masculino'\n",
    "END SEXO_PROPONENTE,\n",
    "\n",
    "PR.CO_TIPO_SEXO,\n",
    "PL.CO_CONTRATO,\n",
    "PL.NO_CONTRATANTE,\n",
    "PL.DS_PLANO_SAUDE,\n",
    "PL.DS_GRUPO_PLANO_SAUDE,\n",
    "PL.DS_GRUPO_CONTRATO,\n",
    "\n",
    "CASE \n",
    "     WHEN PL.CO_CONTRATO IN (24,25,37,40,43,23)                 \t\t\tTHEN 'CASSI FAMÍLIA'\n",
    "     WHEN PL.CO_CONTRATO IN (28,35,197,217)                     \t\t\tTHEN 'FUNCICASSI'\n",
    "\t WHEN PL.CO_CONTRATO IN (619,639,640,641,642,643,644,645,646,647,648) \tTHEN 'ESSENCIAL'\n",
    "     ELSE 'OUTROS'\n",
    "END AS Plano_Unificado,\n",
    "\n",
    "CASE\n",
    "     WHEN PL.CO_CONTRATO IN (23)                         THEN 'CASSI FAMÍLIA I'\n",
    "     WHEN PL.CO_CONTRATO IN (24,25,37,40,43)             THEN 'CASSI FAMÍLIA II'\n",
    "     WHEN PL.CO_CONTRATO IN (197,217)                    THEN 'COLABORADORES CF II'\n",
    "     WHEN PL.CO_CONTRATO IN (28,35)                      THEN 'FUNCICASSI'\n",
    "\t WHEN PL.CO_CONTRATO IN (619) THEN 'ESSENCIAL DF e Entorno'\n",
    "\t WHEN PL.CO_CONTRATO IN (639) THEN 'ESSENCIAL AC, AM, AP, PA e RR'\n",
    "\t WHEN PL.CO_CONTRATO IN (640) THEN 'ESSENCIAL CE e PI'\n",
    "\t WHEN PL.CO_CONTRATO IN (641) THEN 'ESSENCIAL AL, PB e RN'\n",
    "\t WHEN PL.CO_CONTRATO IN (642) THEN 'ESSENCIAL BA e SE'\n",
    "\t WHEN PL.CO_CONTRATO IN (643) THEN 'ESSENCIAL GO, MS, MT, RO e TO'\n",
    "\t WHEN PL.CO_CONTRATO IN (644) THEN 'ESSENCIAL MG'\n",
    "\t WHEN PL.CO_CONTRATO IN (645) THEN 'ESSENCIAL SP'\n",
    "\t WHEN PL.CO_CONTRATO IN (646) THEN 'ESSENCIAL RJ e ES'\n",
    "\t WHEN PL.CO_CONTRATO IN (647) THEN 'ESSENCIAL PR, SC e RS'\n",
    "\t WHEN PL.CO_CONTRATO IN (648) THEN 'ESSENCIAL MA'\n",
    "\t WHEN PL.CO_CONTRATO IN (649) THEN 'ESSENCIAL PE'\n",
    "\t WHEN PL.CO_CONTRATO IN (679) THEN 'VIDA BH' \n",
    "\t WHEN PL.CO_CONTRATO IN (819) THEN 'VIDA BRASÍLIA' \n",
    "\t WHEN PL.CO_CONTRATO IN (839) THEN 'VIDA TRIÂNGULO MINEIRO' \n",
    "\t WHEN PL.CO_CONTRATO IN (840) THEN 'VIDA SALVADOR'\t \n",
    "\t WHEN PL.CO_CONTRATO IN (859) THEN 'VIDA CURITIBA'\n",
    "\t WHEN PL.CO_CONTRATO IN (879) THEN 'VIDA FORTALEZA'\n",
    "\t WHEN PL.CO_CONTRATO IN (880) THEN 'VIDA RECIFE'\n",
    "\t WHEN PL.CO_CONTRATO IN (881) THEN 'VIDA SÃO PAULO'\n",
    "\t WHEN PL.CO_CONTRATO IN (899) THEN 'VIDA FLORIANÓPOLIS'\n",
    "\t WHEN PL.CO_CONTRATO IN (900) THEN 'VIDA CAMPINAS'\n",
    "\t WHEN PL.CO_CONTRATO IN (919) THEN 'VIDA RIBEIRÃO PRETO'\n",
    "\t WHEN PL.CO_CONTRATO IN (920) THEN 'VIDA PORTO ALEGRE'\n",
    "\t WHEN PL.CO_CONTRATO IN (921) THEN 'VIDA RIO DE JANEIRO'\t \n",
    "     ELSE 'OUTROS'\n",
    "END AS Grupo_Plano\n",
    "\n",
    "FROM GOLD.DW.TF_ADESOES_CSC_WEB F\n",
    "JOIN GOLD.DW.TD_PROPONENTE_ADESAO_WEB  PR ON PR.SK_TD_PROPONENTE_ADESAO_WEB = F.SK_TD_PROPONENTE_ADESAO_WEB\n",
    "JOIN GOLD.DW.TD_TEMPO                  TE ON TE.SK_TD_TEMPO                  = F.SK_TD_TEMPO_ENVIO_PROPOSTA\n",
    "JOIN GOLD.DW.TD_TEMPO                  TS ON TS.SK_TD_TEMPO                  = F.SK_TD_TEMPO_SIT_PROPOSTA\n",
    "JOIN GOLD.DW.TD_TEMPO\t\t\t\t\t TC ON TC.SK_TD_TEMPO = F.SK_TD_TEMPO_COMPETENCIA\n",
    "JOIN GOLD.DW.TD_PROPOSTA_SITUACAO      PS ON PS.SK_TD_PROPOSTA_SITUACAO     = F.SK_TD_PROPOSTA_SITUACAO\n",
    "JOIN GOLD.DW.TD_LOCALIDADE             L  ON L.SK_TD_LOCALIDADE             = F.SK_TD_LOCALIDADE\n",
    "JOIN GOLD.DW.TD_PARTICIPANTE           P  ON P.SK_TD_PARTICIPANTE           = F.SK_TD_PARTICIPANTE_INDIC\n",
    "LEFT JOIN GOLD.DW.TD_PLANO_SAUDE\t\tPL\tON PL.SK_TD_PLANO_SAUDE = F.SK_TD_PLANO_SAUDE\n",
    "\n",
    "WHERE\n",
    "--PR.NU_CPF = 04380631125 AND\n",
    "/*TE.DT_COMPLETA = (SELECT DISTINCT MAX(TT.DT_COMPLETA) FROM GOLD.DW.TF_ADESOES_CSC_WEB FF\n",
    "\t\t\t\t\t\t\t\t\t\t JOIN GOLD.DW.TD_TEMPO TT ON TT.SK_TD_TEMPO = FF.SK_TD_TEMPO_ENVIO_PROPOSTA\n",
    "\t\t\t\t\t\t\t\t\t\t JOIN GOLD.DW.TD_PROPONENTE_ADESAO_WEB  PP ON PP.SK_TD_PROPONENTE_ADESAO_WEB = FF.SK_TD_PROPONENTE_ADESAO_WEB\n",
    "\t\t\t\t\t\t\t\t\t\t JOIN GOLD.DW.TD_PROPOSTA_SITUACAO      P ON P.SK_TD_PROPOSTA_SITUACAO     = FF.SK_TD_PROPOSTA_SITUACAO\n",
    "\t\t\t\t\t\t\t\t    WHERE PP.NU_CPF = PR.NU_CPF\n",
    "\t\t\t\t\t\t\t\t\tAND P.DS_SITUACAO_PROPOSTA IN ('CANCELADA PELO ANALISTA','CANCELADA AUTOMATICAMENTE','PROPOSTA EFETIVADA')\n",
    "\t\t\t\t\t\t\t\t\t\n",
    "\t\t\t\t\t\t\t\t\t)\n",
    "AND \n",
    "*/\n",
    "F.ANO_MES_COMPETENCIA >= '202101'\n",
    "--AND PL.CO_CONTRATO IN (619,639,640,641,642,643,644,645,646,647,648,649)\n",
    "\n",
    "\"\"\"\n",
    "\n",
    "executeScript(sql)"
   ]
  },
  {
   "cell_type": "markdown",
   "metadata": {
    "application/vnd.databricks.v1+cell": {
     "cellMetadata": {
      "byteLimit": 2048000,
      "rowLimit": 10000
     },
     "inputWidgets": {},
     "nuid": "9f694857-e708-42d4-b33c-b1c99ee75f4d",
     "showTitle": false,
     "title": ""
    }
   },
   "source": [
    "### Tabela: Plano Saude"
   ]
  },
  {
   "cell_type": "code",
   "execution_count": 0,
   "metadata": {
    "application/vnd.databricks.v1+cell": {
     "cellMetadata": {
      "byteLimit": 2048000,
      "rowLimit": 10000
     },
     "inputWidgets": {},
     "nuid": "02b2e207-ffdb-41db-b3fb-2823a785e4c5",
     "showTitle": false,
     "title": ""
    }
   },
   "outputs": [
    {
     "output_type": "stream",
     "name": "stdout",
     "output_type": "stream",
     "text": [
      "query será realizada no banco:SQLSCIENCE_001\n"
     ]
    },
    {
     "output_type": "execute_result",
     "data": {
      "text/html": [
       "<div>\n",
       "<style scoped>\n",
       "    .dataframe tbody tr th:only-of-type {\n",
       "        vertical-align: middle;\n",
       "    }\n",
       "\n",
       "    .dataframe tbody tr th {\n",
       "        vertical-align: top;\n",
       "    }\n",
       "\n",
       "    .dataframe thead th {\n",
       "        text-align: right;\n",
       "    }\n",
       "</style>\n",
       "<table border=\"1\" class=\"dataframe\">\n",
       "  <thead>\n",
       "    <tr style=\"text-align: right;\">\n",
       "      <th></th>\n",
       "      <th>num_affected_rows</th>\n",
       "      <th>num_inserted_rows</th>\n",
       "    </tr>\n",
       "  </thead>\n",
       "  <tbody>\n",
       "  </tbody>\n",
       "</table>\n",
       "</div>"
      ],
      "text/plain": [
       "Empty DataFrame\n",
       "Columns: [num_affected_rows, num_inserted_rows]\n",
       "Index: []"
      ]
     },
     "execution_count": 5,
     "metadata": {},
     "output_type": "execute_result"
    }
   ],
   "source": [
    "sql = \"\"\"\n",
    "\n",
    "create or replace table mldata.default.adesoes_cassi_plano_saude as\n",
    "\n",
    "--PLANO_SAUDE\n",
    "SELECT PS.* ,   \n",
    "\n",
    "CASE \n",
    "     WHEN PS.CO_CONTRATO IN (23)                                THEN 'CASSI FAMÍLIA I'\n",
    "     WHEN PS.CO_CONTRATO IN (24,25,37,40,43)                    THEN 'CASSI FAMÍLIA II'\n",
    "     WHEN PS.CO_CONTRATO IN (28,35,197,217)                     THEN 'FUNCICASSI'\n",
    "\t WHEN  PS.CO_CONTRATO IN (619,639,640,641,642,643,644,645,646,647,648,649) THEN 'ESSENCIAL'\n",
    "     ELSE 'OUTROS'\n",
    "END AS Plano_Unificado , \n",
    "\n",
    "CASE \n",
    "     WHEN PS.CO_CONTRATO IN (24,25,37,40,43,23)                 THEN 'CASSI FAMÍLIA'\n",
    "     WHEN PS.CO_CONTRATO IN (28,35,197,217)                     THEN 'FUNCICASSI'\n",
    "\t WHEN  PS.CO_CONTRATO IN (619,639,640,641,642,643,644,645,646,647,648,649) THEN 'ESSENCIAL'\n",
    "     ELSE 'OUTROS'\n",
    "END AS Plano_Unificado2 , \n",
    "\n",
    "CASE \n",
    "     WHEN PS.CO_CONTRATO IN (24,25,37,40,43,23,28,35,197,217)                 \t  THEN 'CASSI FAMÍLIA'\n",
    "\t WHEN PS.CO_CONTRATO IN (2,7,30,68,69,277,278,4,61,70,478,5,66,579,6)     \t  THEN 'ASSOCIADOS'\n",
    "\t WHEN PS.CO_CONTRATO IN (619,639,640,641,642,643,644,645,646,647,648,649) \t  THEN 'ESSENCIAL'\n",
    "\t WHEN PS.CO_CONTRATO IN (679,819,839,840,859,879,880,881,899,900,919,920,921) THEN 'CASSI VIDA'\n",
    "     ELSE 'OUTROS'\n",
    "END AS Plano_Unificado3 , \n",
    "\n",
    "CASE\n",
    "     WHEN PS.CO_CONTRATO IN (23)                         THEN 'CASSI FAMÍLIA I'\n",
    "     WHEN PS.CO_CONTRATO IN (24,25,37,40,43)             THEN 'CASSI FAMÍLIA II'\n",
    "     WHEN PS.CO_CONTRATO IN (197,217)                    THEN 'COLABORADORES CF II'\n",
    "     WHEN PS.CO_CONTRATO IN (28,35)                      THEN 'FUNCICASSI'\n",
    "\t WHEN PS.CO_CONTRATO IN (619) THEN 'ESSENCIAL DF e Entorno'\n",
    "\t WHEN PS.CO_CONTRATO IN (639) THEN 'ESSENCIAL AC, AM, AP, PA e RR'\n",
    "\t WHEN PS.CO_CONTRATO IN (640) THEN 'ESSENCIAL CE e PI'\n",
    "\t WHEN PS.CO_CONTRATO IN (641) THEN 'ESSENCIAL AL, PB e RN'\n",
    "\t WHEN PS.CO_CONTRATO IN (642) THEN 'ESSENCIAL BA e SE'\n",
    "\t WHEN PS.CO_CONTRATO IN (643) THEN 'ESSENCIAL GO, MS, MT, RO e TO'\n",
    "\t WHEN PS.CO_CONTRATO IN (644) THEN 'ESSENCIAL MG'\n",
    "\t WHEN PS.CO_CONTRATO IN (645) THEN 'ESSENCIAL SP'\n",
    "\t WHEN PS.CO_CONTRATO IN (646) THEN 'ESSENCIAL RJ e ES'\n",
    "\t WHEN PS.CO_CONTRATO IN (647) THEN 'ESSENCIAL PR, SC e RS'\n",
    "\t WHEN PS.CO_CONTRATO IN (648) THEN 'ESSENCIAL MA'\n",
    "\t WHEN PS.CO_CONTRATO IN (649) THEN 'ESSENCIAL PE'\n",
    "\t WHEN PS.CO_CONTRATO IN (679) THEN 'VIDA BH'\n",
    "\t WHEN PS.CO_CONTRATO IN (819) THEN 'VIDA BRASÍLIA'\n",
    "\t WHEN PS.CO_CONTRATO IN (839) THEN 'VIDA TRIÂNGULO MINEIRO'\n",
    "\t WHEN PS.CO_CONTRATO IN (840) THEN 'VIDA SALVADOR'\t \n",
    "\t WHEN PS.CO_CONTRATO IN (859) THEN 'VIDA CURITIBA'\n",
    "\t WHEN PS.CO_CONTRATO IN (879) THEN 'VIDA FORTALEZA'\n",
    "\t WHEN PS.CO_CONTRATO IN (880) THEN 'VIDA RECIFE'\n",
    "\t WHEN PS.CO_CONTRATO IN (881) THEN 'VIDA SÃO PAULO'\n",
    "\t WHEN PS.CO_CONTRATO IN (899) THEN 'VIDA FLORIANÓPOLIS'\n",
    "\t WHEN PS.CO_CONTRATO IN (900) THEN 'VIDA CAMPINAS'\n",
    "\t WHEN PS.CO_CONTRATO IN (919) THEN 'VIDA RIBEIRÃO PRETO'\n",
    "\t WHEN PS.CO_CONTRATO IN (920) THEN 'VIDA PORTO ALEGRE'\n",
    "\t WHEN PS.CO_CONTRATO IN (921) THEN 'VIDA RIO DE JANEIRO'\t \n",
    "\t WHEN PS.CO_CONTRATO = 2     THEN 'Associado - Funcionário Banco do Brasil'\n",
    "\t WHEN PS.CO_CONTRATO = 7     THEN 'Dependentes Indiretos'\n",
    "\t WHEN PS.CO_CONTRATO = 30     THEN 'Associado - Exonerados'\n",
    "\t WHEN PS.CO_CONTRATO = 68     THEN 'Associado - Autopatrocinado Temporário'\n",
    "\t WHEN PS.CO_CONTRATO = 69    THEN 'Associado - Autopatrocinado Permanentes'\n",
    "\t WHEN PS.CO_CONTRATO = 277     THEN 'Associados - Autopatrocinado Permanente - INSS'\n",
    "\t WHEN PS.CO_CONTRATO = 278     THEN 'Associados - Autopatrocinado Temporário - INSS'\n",
    "\t WHEN PS.CO_CONTRATO = 4     THEN 'Aposentados'\n",
    "\t WHEN PS.CO_CONTRATO = 61     THEN 'Associados Ação Judicial'\n",
    "\t WHEN PS.CO_CONTRATO = 70     THEN 'Associados Ação Judicial Custeio Integral'\n",
    "\t WHEN PS.CO_CONTRATO = 478     THEN 'PAS - Incorporados'\n",
    "\t WHEN PS.CO_CONTRATO = 5     THEN 'Pensionistas'\n",
    "\t WHEN PS.CO_CONTRATO = 66     THEN 'Pensionistas INSS'\n",
    "\t WHEN PS.CO_CONTRATO = 579     THEN 'EX-ASSOCIADO AUTOPATROCINADO'\n",
    "\t WHEN PS.CO_CONTRATO = 6     THEN 'Paraguaios'\n",
    "     ELSE 'OUTROS'\n",
    "\n",
    "END AS Grupo_Plano,\n",
    "\n",
    "CASE                  WHEN PS.CO_CONTRATO IN (23)                                      THEN 'CASSI FAMÍLIA I'\n",
    "                      WHEN PS.CO_CONTRATO IN (24,25,37,40,43)                          THEN 'CASSI FAMÍLIA II'\n",
    "                      WHEN PS.CO_CONTRATO IN (197,217)                                 THEN 'COLABORADORES CF II'\n",
    "                      WHEN PS.CO_CONTRATO IN (28,35)                                   THEN 'FUNCICASSI'\n",
    "                      ELSE 'OUTROS'\n",
    "                 END                                AS Grupo_Plano_1\n",
    "\n",
    "\n",
    "FROM GOLD.DW.TD_PLANO_SAUDE PS\n",
    "\n",
    "WHERE \n",
    "PS.CO_CONTRATO IN (619,639,640,641,642,643,644,645,646,647,648,649,679,819,839,840,859,879,880,881,899,900,919,920,921,24,25,37,40,43,23,2,7,30,68,69,277,278,4,61,70,478,5,66,579,6) --CONTRATOS NÃO UTILIZADOS-197,217,28,35\n",
    "\n",
    "\"\"\"\n",
    "\n",
    "executeScript(sql)"
   ]
  },
  {
   "cell_type": "markdown",
   "metadata": {
    "application/vnd.databricks.v1+cell": {
     "cellMetadata": {
      "byteLimit": 2048000,
      "rowLimit": 10000
     },
     "inputWidgets": {},
     "nuid": "e41df076-c9eb-4186-8933-23ef1cc7890d",
     "showTitle": false,
     "title": ""
    }
   },
   "source": [
    "### Tabela: Simulador propostas"
   ]
  },
  {
   "cell_type": "code",
   "execution_count": 0,
   "metadata": {
    "application/vnd.databricks.v1+cell": {
     "cellMetadata": {
      "byteLimit": 2048000,
      "rowLimit": 10000
     },
     "inputWidgets": {},
     "nuid": "3cc18a0f-9fc8-4bdc-abeb-a6d9a88ae251",
     "showTitle": false,
     "title": ""
    }
   },
   "outputs": [
    {
     "output_type": "stream",
     "name": "stdout",
     "output_type": "stream",
     "text": [
      "query será realizada no banco:SQLSCIENCE_001\n"
     ]
    },
    {
     "output_type": "execute_result",
     "data": {
      "text/html": [
       "<div>\n",
       "<style scoped>\n",
       "    .dataframe tbody tr th:only-of-type {\n",
       "        vertical-align: middle;\n",
       "    }\n",
       "\n",
       "    .dataframe tbody tr th {\n",
       "        vertical-align: top;\n",
       "    }\n",
       "\n",
       "    .dataframe thead th {\n",
       "        text-align: right;\n",
       "    }\n",
       "</style>\n",
       "<table border=\"1\" class=\"dataframe\">\n",
       "  <thead>\n",
       "    <tr style=\"text-align: right;\">\n",
       "      <th></th>\n",
       "      <th>num_affected_rows</th>\n",
       "      <th>num_inserted_rows</th>\n",
       "    </tr>\n",
       "  </thead>\n",
       "  <tbody>\n",
       "  </tbody>\n",
       "</table>\n",
       "</div>"
      ],
      "text/plain": [
       "Empty DataFrame\n",
       "Columns: [num_affected_rows, num_inserted_rows]\n",
       "Index: []"
      ]
     },
     "execution_count": 4,
     "metadata": {},
     "output_type": "execute_result"
    }
   ],
   "source": [
    "sql = \"\"\"\n",
    "\n",
    "create or replace table mldata.default.adesoes_cassi_simulador_propostas as\n",
    "\n",
    "SELECT \n",
    "SML.*,\n",
    "\n",
    "CASE\n",
    "\tWHEN SML.ID_ORGM_LEAD = 1 THEN 'Simulador'\n",
    "\tWHEN SML.ID_ORGM_LEAD = 170 THEN 'Cassi Vida BH'\n",
    "\tWHEN SML.ID_ORGM_LEAD = 171 THEN 'Cassi Vida Triângulo Mineiro'\n",
    "\tWHEN SML.ID_ORGM_LEAD = 172 THEN 'Cassi Vida Salvador'\n",
    "\tWHEN SML.ID_ORGM_LEAD = 173 THEN 'Cassi Vida Brasília'\t\n",
    "\tWHEN SML.ID_ORGM_LEAD = 174 THEN 'Cassi Vida Curitiba'\n",
    "\tWHEN SML.ID_ORGM_LEAD = 175 THEN 'Cassi Vida Fortaleza'\n",
    "\tWHEN SML.ID_ORGM_LEAD = 176 THEN 'Cassi Vida Recife'\n",
    "\tWHEN SML.ID_ORGM_LEAD = 177 THEN 'Cassi Vida São Paulo'\n",
    "\tWHEN SML.ID_ORGM_LEAD = 178 THEN 'Cassi Vida Florianópolis'\n",
    "\tWHEN SML.ID_ORGM_LEAD = 179 THEN 'Cassi Vida Campinas'\n",
    "\tWHEN SML.ID_ORGM_LEAD = 180 THEN 'Cassi Vida Ribeirão Preto'\n",
    "\tWHEN SML.ID_ORGM_LEAD = 181 THEN 'Cassi Vida Porto Alegre'\n",
    "\tWHEN SML.ID_ORGM_LEAD = 182 THEN 'Cassi Vida Rio de Janeiro'\t\n",
    "\tELSE 'Outro'\n",
    "END ORIGEM_LEAD,\n",
    "\n",
    "CASE\n",
    "WHEN SML.QRO_SER_CNTTDO = 'S' THEN 'SIM'\n",
    "ELSE 'NÃO'\n",
    "END AS SOLICITOU_CONTATO,\n",
    "\n",
    "CASE\n",
    "WHEN SML.TX_TEM_PLNO_SDE = 1 THEN 'Sim, da própria CASSI'\n",
    "WHEN SML.TX_TEM_PLNO_SDE = 2 THEN 'Sim, de outra operadora'\n",
    "ELSE 'Não'\n",
    "END AS TEM_PLANO,\n",
    "\n",
    "--SML.NUM_CEP,\n",
    "\n",
    "CASE\n",
    "    WHEN SML.ID_UF = 1 THEN 'AC'\n",
    "\tWHEN SML.ID_UF = 2 THEN 'AL'\n",
    "\tWHEN SML.ID_UF = 3 THEN 'AP'\n",
    "\tWHEN SML.ID_UF = 4 THEN 'AM'\n",
    "\tWHEN SML.ID_UF = 5 THEN 'BA'\n",
    "\tWHEN SML.ID_UF = 6 THEN 'CE'\n",
    "\tWHEN SML.ID_UF = 7 THEN 'DF'\n",
    "\tWHEN SML.ID_UF = 8 THEN 'ES'\n",
    "\tWHEN SML.ID_UF = 9 THEN 'GO'\n",
    "\tWHEN SML.ID_UF = 10 THEN 'MA'\n",
    "\tWHEN SML.ID_UF = 11 THEN 'MT'\n",
    "\tWHEN SML.ID_UF = 12 THEN 'MS'\n",
    "\tWHEN SML.ID_UF = 13 THEN 'MG'\n",
    "\tWHEN SML.ID_UF = 14 THEN 'PA'\n",
    "\tWHEN SML.ID_UF = 15 THEN 'PB'\n",
    "\tWHEN SML.ID_UF = 16 THEN 'PR'\n",
    "\tWHEN SML.ID_UF = 17 THEN 'PE'\n",
    "\tWHEN SML.ID_UF = 18 THEN 'PI'\n",
    "\tWHEN SML.ID_UF = 19 THEN 'RJ'\n",
    "\tWHEN SML.ID_UF = 20 THEN 'RN'\n",
    "\tWHEN SML.ID_UF = 21 THEN 'RS'\n",
    "\tWHEN SML.ID_UF = 22 THEN 'RO'\n",
    "\tWHEN SML.ID_UF = 23 THEN 'RR'\n",
    "\tWHEN SML.ID_UF = 24 THEN 'SC'\n",
    "\tWHEN SML.ID_UF = 25 THEN 'SP'\n",
    "\tWHEN SML.ID_UF = 26 THEN 'SE'\n",
    "\tWHEN SML.ID_UF = 27 THEN 'TO'\n",
    "\tELSE 'NI'\n",
    "\tEND AS UF2,\n",
    "\t\n",
    "CURRENT_TIMESTAMP as DATA_ATUAL,\n",
    "\n",
    "------------- novos campos para relatório\n",
    "       SML.NME_CNDDO                     AS NOME,\n",
    "       SML.TX_EMAIL                      AS EMAIL,\n",
    "       SML.NUM_CPF                       AS CPF,\n",
    "       SML.NUM_TLFNE                     AS TELEFONE,\n",
    "       SML.NUM_CEP                       AS CEP,\n",
    "       SML.DSC_IDDE                      AS IDADE,\n",
    "\t   SML.TX_UF\t\t\t\t\t\t AS UF,\n",
    "\t   SML.TX_MNCPO\t\t\t\t\t\t AS CIDADE,\n",
    "       \n",
    "\t   CASE \n",
    "           when SML.TX_PRNTSCO = '1' then 'Ex-funcionário'\n",
    "           when SML.TX_PRNTSCO = '2' then 'Filho(a) / Enteado(a)'\n",
    "           when SML.TX_PRNTSCO = '3' then 'Pai/Mãe'\n",
    "           when SML.TX_PRNTSCO = '4' then 'Irmão/Irmã'\n",
    "           when SML.TX_PRNTSCO = '5' then 'Primo(a)'\n",
    "           when SML.TX_PRNTSCO = '6' then 'Sobrinho(a)'\n",
    "           when SML.TX_PRNTSCO = '7' then 'Neto(a)'\n",
    "           when SML.TX_PRNTSCO = '8' then 'Bisneto(a)'\n",
    "           when SML.TX_PRNTSCO = '9' then 'Sobrinho(a)-neto(a)'\n",
    "           when SML.TX_PRNTSCO = '10' then 'Esposo(a) do neto(a)'\n",
    "           when SML.TX_PRNTSCO = '11' then 'Nora/Genro'\n",
    "           when SML.TX_PRNTSCO = '12' then 'Padrasto/Madrasta'\n",
    "           when SML.TX_PRNTSCO = '13' then 'Cunhado(a)'\n",
    "           when SML.TX_PRNTSCO = '14' then 'Tio(a)'\n",
    "           when SML.TX_PRNTSCO = '15' then 'Avô(ó)'\n",
    "           when SML.TX_PRNTSCO = '16' then 'Sogro(a)'\t\t  \n",
    "           when SML.TX_PRNTSCO = '17' then 'Outros'\n",
    "\t\t   else 'NI'\n",
    "\t\tend as PARENTESCO,\n",
    "\t\t\n",
    "       CASE SML.TX_TEM_PLNO_SDE\n",
    "           WHEN 1 THEN 'Sim, da própria CASSI'\n",
    "           WHEN 2 THEN 'Sim, de outra operadora'\n",
    "           WHEN 3 THEN 'Não' \n",
    "\t\tEND AS TEMPLANOSAUDE,\n",
    "\t\t\n",
    "       SML.QRO_SER_CNTTDO AS QUEROSERCONTATADO,\n",
    "\t   \n",
    "       CASE SML.FRM_CNTTO\n",
    "           WHEN 1 THEN 'TANTO FAZ'\n",
    "           WHEN 2 THEN 'MANHA'\n",
    "           WHEN 3 THEN 'TARDE'\n",
    "           WHEN 4 THEN 'NOITE'\n",
    "           WHEN NULL THEN '-'\n",
    "       END AS FORMACONTATO,\n",
    "\t   \n",
    "\t    CASE SML.ID_OPRDA\n",
    "           WHEN 1 THEN 'NotreDame Intermédica'\n",
    "           WHEN 2 THEN 'Hapvida'\n",
    "           WHEN 3 THEN 'Bradesco Saúde'\n",
    "           WHEN 4 THEN 'Amil'\n",
    "           WHEN 5 THEN 'SulAmérica'\n",
    "\t\t   WHEN 6 THEN 'Unimed'\n",
    "\t\t   WHEN 7 THEN 'Prevent Senior'\n",
    "\t\t   WHEN 8 THEN 'Assim Saúde'\n",
    "\t\t   WHEN 9 THEN 'MPorto Seguro Saúde'\n",
    "\t\t   WHEN 10 THEN 'MedSênior'\n",
    "\t\t   WHEN 11 THEN 'Geap'\n",
    "\t\t   WHEN 12 THEN 'Assefaz'\n",
    "\t\t   WHEN 13 THEN 'Outros'\n",
    "       END AS OPERADORA,\n",
    "\t   \n",
    "\t  CASE SML.ID_QTTMP\n",
    "           WHEN 1 THEN '0 A 5 Meses'\n",
    "           WHEN 2 THEN '6 a 12 Meses'\n",
    "           WHEN 3 THEN 'Superior a 12 Meses'\n",
    "       END AS QTDMES\n",
    "\n",
    "FROM SILVER.ADESAO_WEB.TB_CNDDO_SMLDR SML\n",
    "ORDER BY DT_RGTRO DESC\n",
    "\n",
    "\"\"\"\n",
    "\n",
    "executeScript(sql)"
   ]
  },
  {
   "cell_type": "markdown",
   "metadata": {
    "application/vnd.databricks.v1+cell": {
     "cellMetadata": {
      "byteLimit": 2048000,
      "rowLimit": 10000
     },
     "inputWidgets": {},
     "nuid": "4d6a8c94-0129-4871-8912-b723ec469be6",
     "showTitle": false,
     "title": ""
    }
   },
   "source": [
    "### Tabela: Adesao soc"
   ]
  },
  {
   "cell_type": "code",
   "execution_count": 0,
   "metadata": {
    "application/vnd.databricks.v1+cell": {
     "cellMetadata": {
      "byteLimit": 2048000,
      "rowLimit": 10000
     },
     "inputWidgets": {},
     "nuid": "040ec1c4-56ce-45a3-b250-5ce69883fdbd",
     "showTitle": false,
     "title": ""
    }
   },
   "outputs": [
    {
     "output_type": "stream",
     "name": "stdout",
     "output_type": "stream",
     "text": [
      "query será realizada no banco:SQLSCIENCE_001\n"
     ]
    },
    {
     "output_type": "execute_result",
     "data": {
      "text/html": [
       "<div>\n",
       "<style scoped>\n",
       "    .dataframe tbody tr th:only-of-type {\n",
       "        vertical-align: middle;\n",
       "    }\n",
       "\n",
       "    .dataframe tbody tr th {\n",
       "        vertical-align: top;\n",
       "    }\n",
       "\n",
       "    .dataframe thead th {\n",
       "        text-align: right;\n",
       "    }\n",
       "</style>\n",
       "<table border=\"1\" class=\"dataframe\">\n",
       "  <thead>\n",
       "    <tr style=\"text-align: right;\">\n",
       "      <th></th>\n",
       "      <th>num_affected_rows</th>\n",
       "      <th>num_inserted_rows</th>\n",
       "    </tr>\n",
       "  </thead>\n",
       "  <tbody>\n",
       "  </tbody>\n",
       "</table>\n",
       "</div>"
      ],
      "text/plain": [
       "Empty DataFrame\n",
       "Columns: [num_affected_rows, num_inserted_rows]\n",
       "Index: []"
      ]
     },
     "execution_count": 7,
     "metadata": {},
     "output_type": "execute_result"
    }
   ],
   "source": [
    "sql = \"\"\"\n",
    "\n",
    "create or replace table mldata.default.adesoes_cassi_adesao_soc as\n",
    "\n",
    "SELECT\n",
    "BEN.HANDLE,\n",
    "BEN.NOME,\n",
    "--TO_CHAR(BEN.DATAADESAO,'YYYY-MM-DD') DATA,\n",
    "TO_DATE(BEN.DATAADESAO,'YYYY-MM-DD') DATA,\n",
    "BEN.DATAADESAO,\n",
    "--TRUNC((MONTHS_BETWEEN(SYSDATE,MAT.DATANASCIMENTO))/12)IDADE,\n",
    "INT(DATEDIFF(CURRENT_DATE(),MAT.DATANASCIMENTO)/365) IDADE,\n",
    "C.CONTRATANTE,\n",
    "GC.DESCRICAO GRUPO_CONTRATO,\n",
    "MAT.SEXO,\n",
    "EST.SIGLA UF,\n",
    "1 QTD\n",
    "FROM SILVER.SOC.SAM_BENEFICIARIO BEN\n",
    "JOIN SILVER.SOC.SAM_MATRICULA    MAT ON MAT.HANDLE = BEN.MATRICULA\n",
    "JOIN SILVER.SOC.SAM_ENDERECO SEN ON SEN.HANDLE = BEN.ENDERECORESIDENCIAL\n",
    "JOIN SILVER.SOC.ESTADOS      EST ON EST.HANDLE = SEN.ESTADO \n",
    "JOIN SILVER.SOC.SAM_CONTRATO C ON BEN.CONTRATO = C.HANDLE\n",
    "JOIN SILVER.SOC.SAM_GRUPOCONTRATO GC ON C.GRUPOCONTRATO = GC.HANDLE \n",
    "\n",
    "WHERE C.GRUPOCONTRATO IN(2,6,26)--26-CASSI VIDA(INFORMACAO INSERIDA PELO COLABORADOR MICHEL ROCHA GTI INFORMACAO)\n",
    "AND BEN.DATAADESAO BETWEEN '2021-06-23' AND TO_DATE(CURRENT_DATE(),'YYYY-MM-DD')\n",
    "AND C.HANDLE NOT IN (197, 217) --(AJUSTE PARA NAO APRESENTAR OS PLANOS 197-CASSI Família II - Colaboradores E 217-CASSI Família II - Colaboradores Adm)\n",
    "--GROUP BY BEN.DATAADESAO, GC.DESCRICAO, EST.SIGLA,MAT.DATANASCIMENTO,BEN.HANDLE,\n",
    "--BEN.NOME,MAT.SEXO, C.CONTRATANTE\n",
    "\n",
    "\"\"\"\n",
    "\n",
    "executeScript(sql)"
   ]
  },
  {
   "cell_type": "markdown",
   "metadata": {
    "application/vnd.databricks.v1+cell": {
     "cellMetadata": {
      "byteLimit": 2048000,
      "rowLimit": 10000
     },
     "inputWidgets": {},
     "nuid": "e88f0bdf-fbd0-4b29-9985-b0b000081bc7",
     "showTitle": false,
     "title": ""
    }
   },
   "source": [
    "### Tabela: Situação Ben Soc"
   ]
  },
  {
   "cell_type": "code",
   "execution_count": 0,
   "metadata": {
    "application/vnd.databricks.v1+cell": {
     "cellMetadata": {
      "byteLimit": 2048000,
      "rowLimit": 10000
     },
     "inputWidgets": {},
     "nuid": "ca7ca3b4-8740-4f26-81c4-b02b86d39f6c",
     "showTitle": false,
     "title": ""
    }
   },
   "outputs": [
    {
     "output_type": "stream",
     "name": "stdout",
     "output_type": "stream",
     "text": [
      "query será realizada no banco:SQLSCIENCE_001\n"
     ]
    },
    {
     "output_type": "execute_result",
     "data": {
      "text/html": [
       "<div>\n",
       "<style scoped>\n",
       "    .dataframe tbody tr th:only-of-type {\n",
       "        vertical-align: middle;\n",
       "    }\n",
       "\n",
       "    .dataframe tbody tr th {\n",
       "        vertical-align: top;\n",
       "    }\n",
       "\n",
       "    .dataframe thead th {\n",
       "        text-align: right;\n",
       "    }\n",
       "</style>\n",
       "<table border=\"1\" class=\"dataframe\">\n",
       "  <thead>\n",
       "    <tr style=\"text-align: right;\">\n",
       "      <th></th>\n",
       "      <th>num_affected_rows</th>\n",
       "      <th>num_inserted_rows</th>\n",
       "    </tr>\n",
       "  </thead>\n",
       "  <tbody>\n",
       "  </tbody>\n",
       "</table>\n",
       "</div>"
      ],
      "text/plain": [
       "Empty DataFrame\n",
       "Columns: [num_affected_rows, num_inserted_rows]\n",
       "Index: []"
      ]
     },
     "execution_count": 8,
     "metadata": {},
     "output_type": "execute_result"
    }
   ],
   "source": [
    "sql = \"\"\"\n",
    "\n",
    "create or replace table mldata.default.adesoes_cassi_situacao_ben_soc as\n",
    "\n",
    "--SITUACAO_BEN_SOC\n",
    "--ACOMPANHAMENTO DAS ADESOES SOC/CSC--\n",
    "SELECT\n",
    " F.ANO_MES_COMPETENCIA\n",
    ",F.QT_ADESAO\n",
    ",F.QT_ATIVO\n",
    ",F.QT_CANCELADO\n",
    ",F.QT_REATIVADO\n",
    ",F.QT_ALTERACAO \n",
    ",F.NU_IDADE\n",
    "\n",
    ",L.NO_ESTADO\n",
    ",L.SG_ESTADO\n",
    "\n",
    ",CASE\n",
    "\tWHEN F.QT_ADESAO    = 1 THEN 'ADESAO'\n",
    "\tWHEN F.QT_ATIVO     = 1 THEN 'ATIVO'\n",
    "\tWHEN F.QT_CANCELADO = 1 THEN 'CANCELADO'\n",
    "\tWHEN F.QT_REATIVADO = 1 THEN 'REATIVADO'\n",
    "\tWHEN F.QT_ALTERACAO  = 1 THEN 'ALTERACAO'\n",
    "END SITUACAO\n",
    "\n",
    ",CASE \n",
    "\tWHEN F.NU_IDADE BETWEEN  0 AND 18 THEN '00-18'\n",
    "\tWHEN F.NU_IDADE BETWEEN 19 AND 23 THEN '19-23'\n",
    "\tWHEN F.NU_IDADE BETWEEN 24 AND 28 THEN '24-28'\n",
    "\tWHEN F.NU_IDADE BETWEEN 29 AND 33 THEN '29-33'\n",
    "\tWHEN F.NU_IDADE BETWEEN 34 AND 38 THEN '34-38'\n",
    "\tWHEN F.NU_IDADE BETWEEN 39 AND 43 THEN '39-43'\n",
    "\tWHEN F.NU_IDADE BETWEEN 44 AND 48 THEN '44-48'\n",
    "\tWHEN F.NU_IDADE BETWEEN 49 AND 53 THEN '49-53'\n",
    "\tWHEN F.NU_IDADE BETWEEN 54 AND 58 THEN '54-58'\n",
    "    WHEN F.NU_IDADE      >= 59        THEN '59-MM'\n",
    "END FAIXA_ETARIA\n",
    "\n",
    ",TA.DT_COMPLETA                   DT_ADESAO\n",
    ",TC.DT_COMPLETA                   DT_CANCELAMENTO\n",
    ",TR.DT_COMPLETA                   DT_REATIVACAO\n",
    ",TM.DT_COMPLETA                   DT_COMPETENCIA\n",
    ",TM.NU_ANO\n",
    ",TM.NU_MES\n",
    "\n",
    ",CASE\n",
    "\tWHEN TA.DT_COMPLETA <> '9999-12-31' THEN TA.DT_COMPLETA\n",
    "\tWHEN TC.DT_COMPLETA <> '9999-12-31' THEN TC.DT_COMPLETA\n",
    "\tWHEN TR.DT_COMPLETA <> '9999-12-31' THEN TR.DT_COMPLETA\n",
    "END DT_ATUALIZACAO\n",
    "\n",
    ",P.NO_BENEFICIARIO\n",
    ",P.NU_MATRICULA_CASSI\n",
    ",P.DS_SEXO_BENEFICIARIO\n",
    ",P.SG_UF_RESIDENCIAL\n",
    ",P.DT_NASCIMENTO_BENEFICIARIO\n",
    ",P.NU_CPF_BENEFICIARIO\n",
    ",P.DS_EMAIL\n",
    ",P.DS_ENDERECO_RESIDENCIAL\n",
    ",P.NU_LOGRADOURO_RESIDENCIAL\n",
    ",P.NU_CELULAR\n",
    ",P.NU_TELEFONE1\n",
    ",P.DS_CONTRATO_BENEFICIARIO\n",
    ",P.DS_ORIGEM_ADESAO\n",
    "\n",
    ",S.NU_CONTRATO\n",
    "\n",
    ",C.DS_MOTIVO_CANCELAMENTO\n",
    ",F.SK_TD_PLANO_SAUDE\n",
    ",S.CO_CONTRATO\n",
    ",S.DS_PLANO_SAUDE\n",
    ",S.NO_CONTRATANTE\n",
    "\n",
    "FROM       GOLD.DW.TF_SITUACAO_BENEFICIARIOS  F\n",
    "INNER JOIN GOLD.DW.TD_PARTICIPANTE            P  ON P.SK_TD_PARTICIPANTE        = F.SK_TD_PARTICIPANTE\n",
    "INNER JOIN GOLD.DW.TD_PLANO_SAUDE             S  ON S.SK_TD_PLANO_SAUDE         = F.SK_TD_PLANO_SAUDE\n",
    "INNER JOIN GOLD.DW.TD_TEMPO                   TA ON TA.SK_TD_TEMPO              = F.SK_TD_TEMPO_ADESAO\n",
    "INNER JOIN GOLD.DW.TD_TEMPO                   TC ON TC.SK_TD_TEMPO              = F.SK_TD_TEMPO_CANCELADO\n",
    "INNER JOIN GOLD.DW.TD_TEMPO                   TR ON TR.SK_TD_TEMPO              = F.SK_TD_TEMPO_REATIVACAO\n",
    "INNER JOIN GOLD.DW.TD_TEMPO                   TM ON TM.SK_TD_TEMPO              = F.SK_TD_TEMPO_COMPETENCIA\n",
    "INNER JOIN GOLD.DW.TD_LOCALIDADE              L  ON L.SK_TD_LOCALIDADE          = F.SK_TD_LOCALIDADE \n",
    "INNER JOIN GOLD.DW.TD_MOTIVO_CANCELAMENTO     C  ON C.SK_TD_MOTIVO_CANCELAMENTO = F.SK_TD_MOTIVO_CANCELAMENTO\n",
    "\n",
    "WHERE 1=1\n",
    "--AND F.ANO_MES_COMPETENCIA >= '202001'\n",
    "AND F.ANO_MES_COMPETENCIA >= '202101' -- DATA ALTERADA PELO COLABORADOR MICHEL ROCHA - GTI INFORMAÇÃO\n",
    "AND S.CO_CONTRATO IN (619,639,640,641,642,643,644,645,646,647,648,649,679,819,839,840,859,879,880,881,899,900,919,920,921,24,25,37,40,43,23,2,7,30,68,69,277,278,4,61,70,478,5,66,579,6)\n",
    "\n",
    "\"\"\"\n",
    "\n",
    "executeScript(sql)"
   ]
  },
  {
   "cell_type": "markdown",
   "metadata": {
    "application/vnd.databricks.v1+cell": {
     "cellMetadata": {
      "byteLimit": 2048000,
      "rowLimit": 10000
     },
     "inputWidgets": {},
     "nuid": "6e15112c-03b2-4b1a-976e-75e5be6203a5",
     "showTitle": false,
     "title": ""
    }
   },
   "source": [
    "### Tabela: Adesao Essencial Soc"
   ]
  },
  {
   "cell_type": "code",
   "execution_count": 0,
   "metadata": {
    "application/vnd.databricks.v1+cell": {
     "cellMetadata": {
      "byteLimit": 2048000,
      "rowLimit": 10000
     },
     "inputWidgets": {},
     "nuid": "3e3eaffb-6a8c-4bc1-9abe-044590256c34",
     "showTitle": false,
     "title": ""
    }
   },
   "outputs": [
    {
     "output_type": "stream",
     "name": "stdout",
     "output_type": "stream",
     "text": [
      "query será realizada no banco:SQLSCIENCE_001\n"
     ]
    },
    {
     "output_type": "execute_result",
     "data": {
      "text/html": [
       "<div>\n",
       "<style scoped>\n",
       "    .dataframe tbody tr th:only-of-type {\n",
       "        vertical-align: middle;\n",
       "    }\n",
       "\n",
       "    .dataframe tbody tr th {\n",
       "        vertical-align: top;\n",
       "    }\n",
       "\n",
       "    .dataframe thead th {\n",
       "        text-align: right;\n",
       "    }\n",
       "</style>\n",
       "<table border=\"1\" class=\"dataframe\">\n",
       "  <thead>\n",
       "    <tr style=\"text-align: right;\">\n",
       "      <th></th>\n",
       "      <th>num_affected_rows</th>\n",
       "      <th>num_inserted_rows</th>\n",
       "    </tr>\n",
       "  </thead>\n",
       "  <tbody>\n",
       "  </tbody>\n",
       "</table>\n",
       "</div>"
      ],
      "text/plain": [
       "Empty DataFrame\n",
       "Columns: [num_affected_rows, num_inserted_rows]\n",
       "Index: []"
      ]
     },
     "execution_count": 9,
     "metadata": {},
     "output_type": "execute_result"
    }
   ],
   "source": [
    "sql = \"\"\"\n",
    "\n",
    "create or replace table mldata.default.adesoes_cassi_adesao_essencial_soc as\n",
    "\n",
    "WITH BENEFICIARIO AS\n",
    "(\n",
    "SELECT DISTINCT\n",
    "M.CPF,\n",
    "C.CONTRATANTE CONTRATO,\n",
    "BEN.DATACANCELAMENTO\n",
    "FROM SILVER.SOC.SAM_BENEFICIARIO BEN\n",
    "JOIN SILVER.SOC.SAM_CONTRATO C ON C.HANDLE = BEN.CONTRATO\n",
    "JOIN SILVER.SOC.SAM_MATRICULA M ON M.HANDLE = BEN.MATRICULA\n",
    "LEFT JOIN SILVER.SOC.SAM_MOTIVOCANCELAMENTO MC ON MC.HANDLE = BEN.MOTIVOCANCELAMENTO\n",
    "WHERE BEN.DATACANCELAMENTO >= '2021-06-23'\n",
    "--AND BEN.DATACANCELAMENTO IS NULL\n",
    "AND C.GRUPOCONTRATO = 2\n",
    "--NOT IN (350,205,208,207,209,206)\n",
    ")\n",
    "SELECT DISTINCT\n",
    "TO_DATE(BEN.DATAADESAO,'YYYY-MM-DD') DATA,\n",
    "BEN.DATAADESAO,\n",
    "BEN.HANDLE,\n",
    "BEN.NOME,\n",
    "EST.SIGLA UF,\n",
    "GC.DESCRICAO Grupo_contrato,\n",
    "C.CONTRATANTE CONTRATO,\n",
    "BB.CPF CPF_CONTRATO_ANTIGO,\n",
    "BB.CONTRATO CONTRATO_ANTERIOR,\n",
    "BB.DATACANCELAMENTO,\n",
    "CASE\n",
    "   WHEN BB.CPF IS NULL THEN 'Primeira Adesão'\n",
    "     ELSE 'Alteração Plano'\n",
    " END TIPO_ADESAO\n",
    "FROM SILVER.SOC.SAM_BENEFICIARIO                         BEN\n",
    "JOIN SILVER.SOC.SAM_MATRICULA                            MAT ON MAT.HANDLE = BEN.MATRICULA\n",
    "JOIN SILVER.SOC.SAM_ENDERECO                             SEN ON SEN.HANDLE = BEN.ENDERECORESIDENCIAL\n",
    "JOIN SILVER.SOC.ESTADOS                                  EST ON EST.HANDLE = SEN.ESTADO \n",
    "JOIN SILVER.SOC.SAM_CONTRATO                             C ON BEN.CONTRATO = C.HANDLE\n",
    "LEFT JOIN BENEFICIARIO                    BB ON BB.CPF = MAT.CPF\n",
    "JOIN SILVER.SOC.SAM_GRUPOCONTRATO                        GC ON C.GRUPOCONTRATO = GC.HANDLE\n",
    "WHERE C.GRUPOCONTRATO  = 6\n",
    "AND BEN.DATAADESAO >= '2021-06-23'\n",
    "\n",
    "\"\"\"\n",
    "\n",
    "executeScript(sql)"
   ]
  },
  {
   "cell_type": "markdown",
   "metadata": {
    "application/vnd.databricks.v1+cell": {
     "cellMetadata": {
      "byteLimit": 2048000,
      "rowLimit": 10000
     },
     "inputWidgets": {},
     "nuid": "09625e3d-4a22-40f5-b837-52f954bf4613",
     "showTitle": false,
     "title": ""
    }
   },
   "source": [
    "### Tabela: Beneficiarios Utilização Adesão"
   ]
  },
  {
   "cell_type": "code",
   "execution_count": 0,
   "metadata": {
    "application/vnd.databricks.v1+cell": {
     "cellMetadata": {
      "byteLimit": 2048000,
      "rowLimit": 10000
     },
     "inputWidgets": {},
     "nuid": "de9bf79a-ab87-4c81-b142-0b9fa9e6c014",
     "showTitle": false,
     "title": ""
    }
   },
   "outputs": [
    {
     "output_type": "stream",
     "name": "stdout",
     "output_type": "stream",
     "text": [
      "query será realizada no banco:SQLSCIENCE_001\n"
     ]
    },
    {
     "output_type": "execute_result",
     "data": {
      "text/html": [
       "<div>\n",
       "<style scoped>\n",
       "    .dataframe tbody tr th:only-of-type {\n",
       "        vertical-align: middle;\n",
       "    }\n",
       "\n",
       "    .dataframe tbody tr th {\n",
       "        vertical-align: top;\n",
       "    }\n",
       "\n",
       "    .dataframe thead th {\n",
       "        text-align: right;\n",
       "    }\n",
       "</style>\n",
       "<table border=\"1\" class=\"dataframe\">\n",
       "  <thead>\n",
       "    <tr style=\"text-align: right;\">\n",
       "      <th></th>\n",
       "      <th>num_affected_rows</th>\n",
       "      <th>num_inserted_rows</th>\n",
       "    </tr>\n",
       "  </thead>\n",
       "  <tbody>\n",
       "  </tbody>\n",
       "</table>\n",
       "</div>"
      ],
      "text/plain": [
       "Empty DataFrame\n",
       "Columns: [num_affected_rows, num_inserted_rows]\n",
       "Index: []"
      ]
     },
     "execution_count": 10,
     "metadata": {},
     "output_type": "execute_result"
    }
   ],
   "source": [
    "sql = \"\"\"\n",
    "\n",
    "create or replace table mldata.default.adesoes_cassi_beneficiarios_utilizacao_adesao as\n",
    "\n",
    "--BENEFICIARIOS_UTILIZACAO_ADESAO\n",
    "SELECT DISTINCT\n",
    "\n",
    "EST.SIGLA UF,\n",
    "TIT.HANDLE,\n",
    "TIT.NOME BENEFICIARIO,\n",
    "TIT.MATRICULACASSI,\n",
    "MAT.CPF,\n",
    "TIT.DATAADESAO,\n",
    "AUT.DATAAUTORIZACAO,\n",
    "AUT.AUTORIZACAO,\n",
    "CON.CONTRATANTE CONTRATO_ADESAO,\n",
    "GC.DESCRICAO DESCGRUPOCONTRATO,\n",
    "CON.GRUPOCONTRATO\n",
    "\n",
    "FROM SILVER.SOC.SAM_BENEFICIARIO                     TIT\n",
    "JOIN SILVER.SOC.SAM_AUTORIZ                          AUT ON AUT.BENEFICIARIO = TIT.HANDLE\n",
    "JOIN SILVER.SOC.SAM_AUTORIZ_EVENTOSOLICIT\t\t\tAES ON AES.AUTORIZACAO = AUT.HANDLE\n",
    "JOIN SILVER.SOC.SAM_AUTORIZ_EVENTOGERADO\t\t\t\tAEG ON AEG.EVENTOSOLICITADO = AES.HANDLE\n",
    "JOIN SILVER.SOC.SAM_MATRICULA                        MAT ON MAT.HANDLE = TIT.MATRICULA\n",
    "JOIN SILVER.SOC.SAM_CONTRATO                         CON ON CON.HANDLE = TIT.CONTRATO\n",
    "JOIN SILVER.SOC.SAM_ENDERECO                         SEN ON SEN.HANDLE = TIT.ENDERECORESIDENCIAL\n",
    "JOIN SILVER.SOC.ESTADOS                              EST ON EST.HANDLE = SEN.ESTADO\n",
    "JOIN SILVER.SOC.SAM_GRUPOCONTRATO \t\t\t\t\tGC ON CON.GRUPOCONTRATO = GC.HANDLE\n",
    "--JOIN SAM_CONTRATO_TPDEP                   CTD ON CTD.HANDLE = TIT.TIPODEPENDENTE\n",
    "--JOIN SAM_TIPODEPENDENTE                   TD ON TD.HANDLE = CTD.TIPODEPENDENTE\n",
    "\n",
    "WHERE\n",
    "--TIT.DATACANCELAMENTO BETWEEN '01/01/2020' AND '21/06/2021'\n",
    "TIT.DATAADESAO >= '2021-01-01'\n",
    "--AND AUT.DATAAUTORIZACAO BETWEEN '2021-07-01' AND '2021-07-22'\n",
    "--AND CON.GRUPOCONTRATO = 6\n",
    "--AND EST.SIGLA = 'DF'\n",
    "AND CON.HANDLE IN (24,25,37,40,43,23,619,639,640,641,642,643,644,645,646,647,648,649,679,819,839,840,859,879,880,881,899,900,919,920,921,2,7,30,68,69,277,278,4,61,70,478,5,66,579,6)\n",
    "\n",
    "\"\"\"\n",
    "\n",
    "executeScript(sql)"
   ]
  },
  {
   "cell_type": "markdown",
   "metadata": {
    "application/vnd.databricks.v1+cell": {
     "cellMetadata": {
      "byteLimit": 2048000,
      "rowLimit": 10000
     },
     "inputWidgets": {},
     "nuid": "8783b97e-e04c-4a82-834a-cabe0863b74c",
     "showTitle": false,
     "title": ""
    }
   },
   "source": [
    "### Tabela: Base Indicação"
   ]
  },
  {
   "cell_type": "code",
   "execution_count": 0,
   "metadata": {
    "application/vnd.databricks.v1+cell": {
     "cellMetadata": {
      "byteLimit": 2048000,
      "rowLimit": 10000
     },
     "inputWidgets": {},
     "nuid": "065d6637-9575-4005-832e-0cf38b8c0e82",
     "showTitle": false,
     "title": ""
    }
   },
   "outputs": [
    {
     "output_type": "stream",
     "name": "stdout",
     "output_type": "stream",
     "text": [
      "query será realizada no banco:SQLSCIENCE_001\n"
     ]
    },
    {
     "output_type": "execute_result",
     "data": {
      "text/html": [
       "<div>\n",
       "<style scoped>\n",
       "    .dataframe tbody tr th:only-of-type {\n",
       "        vertical-align: middle;\n",
       "    }\n",
       "\n",
       "    .dataframe tbody tr th {\n",
       "        vertical-align: top;\n",
       "    }\n",
       "\n",
       "    .dataframe thead th {\n",
       "        text-align: right;\n",
       "    }\n",
       "</style>\n",
       "<table border=\"1\" class=\"dataframe\">\n",
       "  <thead>\n",
       "    <tr style=\"text-align: right;\">\n",
       "      <th></th>\n",
       "      <th>num_affected_rows</th>\n",
       "      <th>num_inserted_rows</th>\n",
       "    </tr>\n",
       "  </thead>\n",
       "  <tbody>\n",
       "  </tbody>\n",
       "</table>\n",
       "</div>"
      ],
      "text/plain": [
       "Empty DataFrame\n",
       "Columns: [num_affected_rows, num_inserted_rows]\n",
       "Index: []"
      ]
     },
     "execution_count": 11,
     "metadata": {},
     "output_type": "execute_result"
    }
   ],
   "source": [
    "sql = \"\"\"\n",
    "\n",
    "create or replace table mldata.default.adesoes_cassi_base_indicacao as\n",
    "\n",
    "SELECT DISTINCT\n",
    "F.ANO_MES_PROCESSAMENTO,\n",
    "F.NU_IDADE,\n",
    "F.QT_INDICACAO,\n",
    "DC.CO_HD_CONTRATO_LOTACAO AS HANDLE_AGENCIA,\n",
    "DC.DS_CONTRATO AS CONTRATO,\n",
    "DC.CO_DEPENDENCIA_BB ||' - '|| DC.DS_DEPENDENCIA_BB AS AGENCIA,\n",
    "DC.DS_ESTADO AS ESTADO_AGENCIA,\n",
    "DC.SG_ESTADO AS SIGLA_ESTADO,\n",
    "DC.DS_MUNICIPIO AS MUNICIPIO,\n",
    "O.DS_ORIGEM_ADESOES,\n",
    "O.DT_INICIO_VIGENCIA,\n",
    "P.CO_HD_BENEFICIARIO,\n",
    "P.DS_TIPO_DEPENDENCIA,\n",
    "P.NU_MATRICULA_CASSI,\n",
    "P.NO_BENEFICIARIO,\n",
    "P.NU_CPF_BENEFICIARIO,\n",
    "P.DS_SEXO_BENEFICIARIO,\n",
    "P.DS_ESTADO_CIVIL_BENEFICIARIO,\n",
    "P.NO_FILIAL_CUSTO,\n",
    "P.DS_CONTRATO_BENEFICIARIO,\n",
    "P.DT_NASCIMENTO_BENEFICIARIO,\n",
    "P.DT_ADESAO_ASSISTENCIA,\n",
    "P.DT_CANCELAMENTO_BENEFICIARIO,\n",
    "P.DS_MOTIVO_CANCEL_BENEFICIARIO,\n",
    "P.DS_PARENTESCO,\n",
    "P.NU_TELEFONE1,\n",
    "P.NU_TELEFONE2,\n",
    "P.NU_CELULAR,\n",
    "P.DS_EMAIL AS EMAIL_PARTICIPANTE,\n",
    "UPPER(PI.NO_INDICADO) AS NO_INDICADO,\n",
    "PI.DS_EMAIL AS EMAIL_INDICADO,\n",
    "PI.NU_TELEFONE,\n",
    "PI.DS_GRAU_PARENTESCO,\n",
    "PI.DT_INICIO_VIGENCIA AS DT_INICIO_PI,\n",
    "PS.DS_PLANO_SAUDE,\n",
    "PS.DS_GRUPO_PLANO_SAUDE,\n",
    "PS.NO_CONTRATANTE,\n",
    "PS.CO_CONTRATO,\n",
    "TI.DT_COMPLETA,\n",
    "TI.DT_INICIO_VIGENCIA AS DT_INICIO_VIGENCIA2,\n",
    "LL.SG_ESTADO\n",
    "FROM GOLD.DW.TF_INDICACOES F\n",
    "INNER JOIN GOLD.DW.TD_DEPENDENCIA_CONTRATO DC  ON DC.SK_TD_DEPENDENCIA_CONTRATO = F.SK_TD_DEPENDENCIA_CONTRATO\n",
    "INNER JOIN GOLD.DW.TD_LOCALIDADE LL \t\t\t  ON LL.SK_TD_LOCALIDADE = F.SK_TD_LOCALIDADE\n",
    "INNER JOIN GOLD.DW.TD_ORIGEM_ADESOES_WEB O \t  ON O.SK_TD_ORIGEM_ADESOES_WEB = F.SK_TD_ORIGEM_ADESOES_WEB\n",
    "INNER JOIN GOLD.DW.TD_PARTICIPANTE P \t\t  ON P.SK_TD_PARTICIPANTE = F.SK_TD_PARTICIPANTE_INDICADOR\n",
    "INNER JOIN GOLD.DW.TD_PESSOAS_INDICADAS PI \t  ON PI.SK_TD_PESSOAS_INDICADAS = F.SK_TD_PESSOAS_INDICADAS\n",
    "INNER JOIN GOLD.DW.TD_PLANO_SAUDE PS \t\t  ON PS.SK_TD_PLANO_SAUDE = F.SK_TD_PLANO_SAUDE\n",
    "INNER JOIN GOLD.DW.TD_TEMPO TI \t\t\t\t  ON TI.SK_TD_TEMPO = F.SK_TD_TEMPO_INDICACAO\n",
    "INNER JOIN GOLD.DW.TD_TEMPO TP \t\t\t\t  ON TP.SK_TD_TEMPO = F.SK_TD_TEMPO_PROCESSAMENTO\n",
    "WHERE F.ANO_MES_PROCESSAMENTO >= '202101'\n",
    "\n",
    "\"\"\"\n",
    "\n",
    "executeScript(sql)"
   ]
  },
  {
   "cell_type": "markdown",
   "metadata": {
    "application/vnd.databricks.v1+cell": {
     "cellMetadata": {
      "byteLimit": 2048000,
      "rowLimit": 10000
     },
     "inputWidgets": {},
     "nuid": "ac51c0ba-d3ce-4a33-909f-c99c929e5a72",
     "showTitle": false,
     "title": ""
    }
   },
   "source": [
    "### Tabela: População"
   ]
  },
  {
   "cell_type": "code",
   "execution_count": 0,
   "metadata": {
    "application/vnd.databricks.v1+cell": {
     "cellMetadata": {
      "byteLimit": 2048000,
      "rowLimit": 10000
     },
     "inputWidgets": {},
     "nuid": "a6b3b590-aa66-439f-9be7-de2f5b4f7a40",
     "showTitle": false,
     "title": ""
    }
   },
   "outputs": [
    {
     "output_type": "stream",
     "name": "stdout",
     "output_type": "stream",
     "text": [
      "query será realizada no banco:SQLSCIENCE_001\n"
     ]
    },
    {
     "output_type": "execute_result",
     "data": {
      "text/html": [
       "<div>\n",
       "<style scoped>\n",
       "    .dataframe tbody tr th:only-of-type {\n",
       "        vertical-align: middle;\n",
       "    }\n",
       "\n",
       "    .dataframe tbody tr th {\n",
       "        vertical-align: top;\n",
       "    }\n",
       "\n",
       "    .dataframe thead th {\n",
       "        text-align: right;\n",
       "    }\n",
       "</style>\n",
       "<table border=\"1\" class=\"dataframe\">\n",
       "  <thead>\n",
       "    <tr style=\"text-align: right;\">\n",
       "      <th></th>\n",
       "      <th>num_affected_rows</th>\n",
       "      <th>num_inserted_rows</th>\n",
       "    </tr>\n",
       "  </thead>\n",
       "  <tbody>\n",
       "  </tbody>\n",
       "</table>\n",
       "</div>"
      ],
      "text/plain": [
       "Empty DataFrame\n",
       "Columns: [num_affected_rows, num_inserted_rows]\n",
       "Index: []"
      ]
     },
     "execution_count": 12,
     "metadata": {},
     "output_type": "execute_result"
    }
   ],
   "source": [
    "sql = \"\"\"\n",
    "\n",
    "create or replace table mldata.default.adesoes_cassi_populacao as\n",
    "\n",
    "SELECT DISTINCT\n",
    "PAR.CO_HD_BENEFICIARIO AS HANDLE\n",
    "FROM GOLD.DW.TF_POPULACAO POP\n",
    "INNER JOIN GOLD.DW.TD_PARTICIPANTE PAR \tON PAR.SK_TD_PARTICIPANTE = POP.SK_TD_PARTICIPANTE\n",
    "INNER JOIN GOLD.DW.TD_PLANO_SAUDE PS \t\tON PS.SK_TD_PLANO_SAUDE = POP.SK_TD_PLANO_SAUDE\n",
    "WHERE POP.ANO_MES_PROCESSAMENTO = TO_DATE(NOW(),'YYYYMM') -1\n",
    "AND POP.ST_TITULAR = 'S'\n",
    "AND PS.CO_CONTRATO IN (2,4,5,6,7,30,61,66,68,69,70,277,278,659,28,35,197,217)\n",
    "UNION\n",
    "SELECT DISTINCT\n",
    "BEN.HANDLE\n",
    "FROM SILVER.SOC.SAM_BENEFICIARIO BEN\n",
    "WHERE BEN.DATACANCELAMENTO IS NOT NULL\n",
    "AND BEN.CONTRATO IN (2,4,5,6,7,30,61,66,68,69,70,277,278,659,28,35,197,217)\n",
    "\n",
    "\"\"\"\n",
    "\n",
    "executeScript(sql)"
   ]
  },
  {
   "cell_type": "markdown",
   "metadata": {
    "application/vnd.databricks.v1+cell": {
     "cellMetadata": {
      "byteLimit": 2048000,
      "rowLimit": 10000
     },
     "inputWidgets": {},
     "nuid": "c4313a88-57bc-4e29-8d34-710ba5149f32",
     "showTitle": false,
     "title": ""
    }
   },
   "source": [
    "### Tabela: População cancel"
   ]
  },
  {
   "cell_type": "code",
   "execution_count": 0,
   "metadata": {
    "application/vnd.databricks.v1+cell": {
     "cellMetadata": {
      "byteLimit": 2048000,
      "rowLimit": 10000
     },
     "inputWidgets": {},
     "nuid": "8b0872e6-b64d-496f-9619-701530b31b90",
     "showTitle": false,
     "title": ""
    }
   },
   "outputs": [
    {
     "output_type": "stream",
     "name": "stdout",
     "output_type": "stream",
     "text": [
      "query será realizada no banco:SQLSCIENCE_001\n"
     ]
    },
    {
     "output_type": "execute_result",
     "data": {
      "text/html": [
       "<div>\n",
       "<style scoped>\n",
       "    .dataframe tbody tr th:only-of-type {\n",
       "        vertical-align: middle;\n",
       "    }\n",
       "\n",
       "    .dataframe tbody tr th {\n",
       "        vertical-align: top;\n",
       "    }\n",
       "\n",
       "    .dataframe thead th {\n",
       "        text-align: right;\n",
       "    }\n",
       "</style>\n",
       "<table border=\"1\" class=\"dataframe\">\n",
       "  <thead>\n",
       "    <tr style=\"text-align: right;\">\n",
       "      <th></th>\n",
       "      <th>num_affected_rows</th>\n",
       "      <th>num_inserted_rows</th>\n",
       "    </tr>\n",
       "  </thead>\n",
       "  <tbody>\n",
       "  </tbody>\n",
       "</table>\n",
       "</div>"
      ],
      "text/plain": [
       "Empty DataFrame\n",
       "Columns: [num_affected_rows, num_inserted_rows]\n",
       "Index: []"
      ]
     },
     "execution_count": 13,
     "metadata": {},
     "output_type": "execute_result"
    }
   ],
   "source": [
    "sql = \"\"\"\n",
    "\n",
    "create or replace table mldata.default.adesoes_cassi_populacao_cancel as\n",
    "\n",
    "SELECT DISTINCT\n",
    "BEN.HANDLE\n",
    "FROM SILVER.SOC.SAM_BENEFICIARIO BEN\n",
    "WHERE BEN.DATACANCELAMENTO IS NOT NULL\n",
    "AND BEN.CONTRATO IN (2,4,5,6,7,30,61,66,68,69,70,277,278,659,28,35,197,217)\n",
    "\n",
    "\"\"\"\n",
    "\n",
    "executeScript(sql)"
   ]
  },
  {
   "cell_type": "markdown",
   "metadata": {
    "application/vnd.databricks.v1+cell": {
     "cellMetadata": {
      "byteLimit": 2048000,
      "rowLimit": 10000
     },
     "inputWidgets": {},
     "nuid": "4b7616d9-5487-4572-93ed-22ebfee292af",
     "showTitle": false,
     "title": ""
    }
   },
   "source": [
    "### Tabela: Base indicação adesao"
   ]
  },
  {
   "cell_type": "code",
   "execution_count": 0,
   "metadata": {
    "application/vnd.databricks.v1+cell": {
     "cellMetadata": {
      "byteLimit": 2048000,
      "rowLimit": 10000
     },
     "inputWidgets": {},
     "nuid": "90790bbd-2eb8-45f2-acfb-88ad6fe45b0c",
     "showTitle": false,
     "title": ""
    }
   },
   "outputs": [
    {
     "output_type": "stream",
     "name": "stdout",
     "output_type": "stream",
     "text": [
      "query será realizada no banco:SQLSCIENCE_001\n"
     ]
    },
    {
     "output_type": "execute_result",
     "data": {
      "text/html": [
       "<div>\n",
       "<style scoped>\n",
       "    .dataframe tbody tr th:only-of-type {\n",
       "        vertical-align: middle;\n",
       "    }\n",
       "\n",
       "    .dataframe tbody tr th {\n",
       "        vertical-align: top;\n",
       "    }\n",
       "\n",
       "    .dataframe thead th {\n",
       "        text-align: right;\n",
       "    }\n",
       "</style>\n",
       "<table border=\"1\" class=\"dataframe\">\n",
       "  <thead>\n",
       "    <tr style=\"text-align: right;\">\n",
       "      <th></th>\n",
       "      <th>num_affected_rows</th>\n",
       "      <th>num_inserted_rows</th>\n",
       "    </tr>\n",
       "  </thead>\n",
       "  <tbody>\n",
       "  </tbody>\n",
       "</table>\n",
       "</div>"
      ],
      "text/plain": [
       "Empty DataFrame\n",
       "Columns: [num_affected_rows, num_inserted_rows]\n",
       "Index: []"
      ]
     },
     "execution_count": 14,
     "metadata": {},
     "output_type": "execute_result"
    }
   ],
   "source": [
    "sql = \"\"\"\n",
    "\n",
    "create or replace table mldata.default.adesoes_cassi_base_indicacao_adesao as\n",
    "\n",
    "SELECT\n",
    "FA.ANO_MES_ADESAO,\n",
    "FA.QT_ADESAO,\n",
    "LL.SG_ESTADO,\n",
    "P.CO_HD_BENEFICIARIO AS HANDLE_ADESAO,\n",
    "P.DS_EMAIL,\n",
    "P.NU_TELEFONE1,\n",
    "P.NU_MATRICULA_CASSI,\n",
    "P.DS_ORIGEM_ADESAO,\n",
    "P.DS_PARENTESCO,\n",
    "P.NO_BENEFICIARIO,\n",
    "P.NU_CPF_BENEFICIARIO AS CPF,\n",
    "PIN.CO_HD_BENEFICIARIO HANDLE_INDICADO,\n",
    "PS.DS_PLANO_SAUDE,\n",
    "PS.DS_GRUPO_PLANO_SAUDE,\n",
    "PS.NO_CONTRATANTE,\n",
    "PS.CO_CONTRATO,\n",
    "TA.DT_COMPLETA DT_ADESAO,\n",
    "TI.DT_COMPLETA DT_INDICACAO\n",
    "FROM GOLD.DW.TF_INDICACOES_ADESOES FA\n",
    "INNER JOIN GOLD.DW.TF_INDICACOES FI \t\tON FI.SK_TF_INDICACOES = FA.SK_TF_INDICACOES\n",
    "INNER JOIN GOLD.DW.TD_LOCALIDADE LL \t\tON LL.SK_TD_LOCALIDADE = FA.SK_TD_LOCALIDADE\n",
    "INNER JOIN GOLD.DW.TD_PARTICIPANTE P \t\tON P.SK_TD_PARTICIPANTE = FA.SK_TD_PARTICIPANTE\n",
    "INNER JOIN GOLD.DW.TD_PARTICIPANTE PIN \tON PIN.SK_TD_PARTICIPANTE = FI.SK_TD_PARTICIPANTE_INDICADOR\n",
    "INNER JOIN GOLD.DW.TD_PLANO_SAUDE PS \t\tON PS.SK_TD_PLANO_SAUDE = FA.SK_TD_PLANO_SAUDE\n",
    "INNER JOIN GOLD.DW.TD_TEMPO TA \t\t\tON TA.SK_TD_TEMPO = FA.SK_TD_TEMPO_ADESAO\n",
    "INNER JOIN GOLD.DW.TD_TEMPO TP \t\t\tON TP.SK_TD_TEMPO = FA.SK_TD_TEMPO_PROCESSAMENTO\n",
    "INNER JOIN GOLD.DW.TD_TEMPO TPI \t\t\tON TPI.SK_TD_TEMPO = FI.SK_TD_TEMPO_PROCESSAMENTO\n",
    "INNER JOIN GOLD.DW.TD_TEMPO TI \t\t\tON TI.SK_TD_TEMPO = FI.SK_TD_TEMPO_INDICACAO\n",
    "\n",
    "WHERE FA.ANO_MES_PROCESSAMENTO >= '202101'\n",
    "AND FI.ANO_MES_PROCESSAMENTO >= '202101'\n",
    "\n",
    "\"\"\"\n",
    "\n",
    "executeScript(sql)"
   ]
  }
 ],
 "metadata": {
  "application/vnd.databricks.v1+notebook": {
   "dashboards": [],
   "language": "python",
   "notebookMetadata": {
    "pythonIndentUnit": 4
   },
   "notebookName": "Adesões Cassi",
   "widgets": {}
  }
 },
 "nbformat": 4,
 "nbformat_minor": 0
}

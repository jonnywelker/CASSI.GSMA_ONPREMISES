{
 "cells": [
  {
   "cell_type": "markdown",
   "metadata": {
    "application/vnd.databricks.v1+cell": {
     "cellMetadata": {
      "byteLimit": 2048000,
      "rowLimit": 10000
     },
     "inputWidgets": {},
     "nuid": "8b07aac5-1f12-40c8-a61f-40ca6aff4aa1",
     "showTitle": false,
     "title": ""
    }
   },
   "source": [
    "### Chamando o SQL serveless para rodar a query"
   ]
  },
  {
   "cell_type": "code",
   "execution_count": 0,
   "metadata": {
    "application/vnd.databricks.v1+cell": {
     "cellMetadata": {
      "byteLimit": 2048000,
      "rowLimit": 10000
     },
     "inputWidgets": {},
     "nuid": "bafacc57-4151-4cbf-87ce-d5017784d20c",
     "showTitle": false,
     "title": ""
    }
   },
   "outputs": [],
   "source": [
    "%run /Workspace/Users/c00010492@cassi.com.br/Demandas/Reembolso/script_personalizado/sqlStatementSqlWarehouse"
   ]
  },
  {
   "cell_type": "code",
   "execution_count": 0,
   "metadata": {
    "application/vnd.databricks.v1+cell": {
     "cellMetadata": {
      "byteLimit": 2048000,
      "rowLimit": 10000
     },
     "inputWidgets": {},
     "nuid": "a6204526-1cbd-4075-a70e-d5f0a0a9a2c0",
     "showTitle": false,
     "title": ""
    }
   },
   "outputs": [],
   "source": [
    "def executeScript(sql):\n",
    "    sql_api = SQLStatementAPI()\n",
    "    return sql_api.execute_sql(sql)"
   ]
  },
  {
   "cell_type": "markdown",
   "metadata": {
    "application/vnd.databricks.v1+cell": {
     "cellMetadata": {
      "byteLimit": 2048000,
      "rowLimit": 10000
     },
     "inputWidgets": {},
     "nuid": "9479eb9d-6528-4a7a-825a-3a102d2037bf",
     "showTitle": false,
     "title": ""
    }
   },
   "source": [
    "### Tabela: TB_avaliacao_appstore"
   ]
  },
  {
   "cell_type": "code",
   "execution_count": 0,
   "metadata": {
    "application/vnd.databricks.v1+cell": {
     "cellMetadata": {
      "byteLimit": 2048000,
      "rowLimit": 10000
     },
     "inputWidgets": {},
     "nuid": "f8280dab-dad7-4b0a-acc3-ad0a8f59e679",
     "showTitle": false,
     "title": ""
    }
   },
   "outputs": [],
   "source": [
    "sql = \"\"\"\n",
    "\n",
    "create or replace table mldata.default.app_mobile_TB_avaliacao_appstore as\n",
    "\n",
    "SELECT * FROM SILVER.WEBSCRAP01.TB_AVALIACAO_APPLESTORE\n",
    "\"\"\""
   ]
  },
  {
   "cell_type": "markdown",
   "metadata": {
    "application/vnd.databricks.v1+cell": {
     "cellMetadata": {
      "byteLimit": 2048000,
      "rowLimit": 10000
     },
     "inputWidgets": {},
     "nuid": "a532a758-a5c4-4766-964f-35d623bb7fc0",
     "showTitle": false,
     "title": ""
    }
   },
   "source": [
    "### Tabela: TB_avaliacao_googleplay"
   ]
  },
  {
   "cell_type": "code",
   "execution_count": 0,
   "metadata": {
    "application/vnd.databricks.v1+cell": {
     "cellMetadata": {
      "byteLimit": 2048000,
      "rowLimit": 10000
     },
     "inputWidgets": {},
     "nuid": "39588e92-663c-46db-8856-69bf2df3023b",
     "showTitle": false,
     "title": ""
    }
   },
   "outputs": [],
   "source": [
    "sql = \"\"\"\n",
    "\n",
    "create or replace table mldata.default.app_mobile_TB_avaliacao_googleplay as\n",
    "\n",
    "SELECT * FROM SILVER.WEBSCRAP01.TB_AVALIACAO_GOOGLEPLAY\n",
    "\"\"\""
   ]
  },
  {
   "cell_type": "markdown",
   "metadata": {
    "application/vnd.databricks.v1+cell": {
     "cellMetadata": {
      "byteLimit": 2048000,
      "rowLimit": 10000
     },
     "inputWidgets": {},
     "nuid": "da017511-eab3-4920-a70d-7fdf746b45e8",
     "showTitle": false,
     "title": ""
    }
   },
   "source": [
    "### Tabela: TB_registro_login_usro"
   ]
  },
  {
   "cell_type": "code",
   "execution_count": 0,
   "metadata": {
    "application/vnd.databricks.v1+cell": {
     "cellMetadata": {
      "byteLimit": 2048000,
      "rowLimit": 10000
     },
     "inputWidgets": {},
     "nuid": "ef14c7b0-5379-480c-a04e-b61685719164",
     "showTitle": false,
     "title": ""
    }
   },
   "outputs": [],
   "source": [
    "sql = \"\"\"\n",
    "\n",
    "create or replace table mldata.default.app_mobile_TB_registro_login_usro as\n",
    "\n",
    "SELECT * FROM ETL.RELPARTICIPANTE_MOBILE.TB_REGISTRO_LOGIN_USRO\n",
    "\"\"\""
   ]
  },
  {
   "cell_type": "markdown",
   "metadata": {
    "application/vnd.databricks.v1+cell": {
     "cellMetadata": {
      "byteLimit": 2048000,
      "rowLimit": 10000
     },
     "inputWidgets": {},
     "nuid": "9805ca98-415a-4d94-846d-5c6bbd1265ba",
     "showTitle": false,
     "title": ""
    }
   },
   "source": [
    "### Tabela: TD_participante"
   ]
  },
  {
   "cell_type": "code",
   "execution_count": 0,
   "metadata": {
    "application/vnd.databricks.v1+cell": {
     "cellMetadata": {
      "byteLimit": 2048000,
      "rowLimit": 10000
     },
     "inputWidgets": {},
     "nuid": "46285ab0-fefe-4dc7-8dec-43631d954215",
     "showTitle": false,
     "title": ""
    }
   },
   "outputs": [],
   "source": [
    "sql = \"\"\"\n",
    "\n",
    "create or replace table mldata.default.app_mobile_TD_participante as\n",
    "\n",
    "\n",
    "--TD_PARTICIPANTE\n",
    "SELECT DISTINCT\n",
    "\n",
    "PA.SK_TD_PARTICIPANTE,\n",
    "ROUND(MONTHS_BETWEEN(NOW(), PA.DT_NASCIMENTO_BENEFICIARIO)/12) AS IDADE,\n",
    "PA.DS_SEXO_BENEFICIARIO,\n",
    "PA.NO_ESTADO_RESIDENCIAL,\n",
    "PA.NO_MUNICIPIO_RESIDENCIAL,\n",
    "PA.SG_UF_RESIDENCIAL,\n",
    "PA.DS_ENDERECO_RESIDENCIAL,\n",
    "PA.NU_LOGRADOURO_RESIDENCIAL,\n",
    "PA.DS_TIPO_COMPL_RESIDENCIAL,\n",
    "PA.DS_COMPLEMENTO_RESIDENCIAL,\n",
    "PA.NO_BAIRRO_RESIDENCIAL,\n",
    "PA.ST_TITULAR,\n",
    "PA.CO_HD_BENEFICIARIO,\n",
    "PA.DS_CONTRATO_BENEFICIARIO,\n",
    "PA.NU_CPF_BENEFICIARIO\n",
    "\n",
    "FROM GOLD.DW.TD_PARTICIPANTE PA\n",
    "\"\"\""
   ]
  },
  {
   "cell_type": "markdown",
   "metadata": {
    "application/vnd.databricks.v1+cell": {
     "cellMetadata": {
      "byteLimit": 2048000,
      "rowLimit": 10000
     },
     "inputWidgets": {},
     "nuid": "31028aec-f972-4c2e-9d91-ec3c44f40df3",
     "showTitle": false,
     "title": ""
    }
   },
   "source": [
    "### Tabela: TD_plano"
   ]
  },
  {
   "cell_type": "code",
   "execution_count": 0,
   "metadata": {
    "application/vnd.databricks.v1+cell": {
     "cellMetadata": {
      "byteLimit": 2048000,
      "rowLimit": 10000
     },
     "inputWidgets": {},
     "nuid": "547aad91-caa8-48aa-82ed-8dfaa4c81917",
     "showTitle": false,
     "title": ""
    }
   },
   "outputs": [],
   "source": [
    "sql = \"\"\"\n",
    "\n",
    "create or replace table mldata.default.app_mobile_TD_plano as\n",
    "\n",
    "\n",
    "SELECT DISTINCT\n",
    " PS.SK_TD_PLANO_SAUDE\n",
    ",PS.CO_PLANO_SAUDE\n",
    ",CASE WHEN PS.DS_PLANO_SAUDE IN ('RECIPROCIDADE I','RECIPROCIDADE II')\n",
    " THEN 'RECIPROCIDADE' ELSE PS.DS_PLANO_SAUDE\n",
    " END AS DS_PLANO_SAUDE\n",
    ",CASE WHEN PS.DS_PLANO_SAUDE_CONTABIL IN ('RECIPROCIDADE I','RECIPROCIDADE II')\n",
    " THEN 'RECIPROCIDADE' ELSE PS.DS_PLANO_SAUDE_CONTABIL\n",
    " END AS DS_PLANO_SAUDE_CONTABIL\n",
    "\n",
    "FROM GOLD.DW.TD_PLANO_SAUDE PS\n",
    "\n",
    "WHERE PS.CO_PLANO_SAUDE NOT IN (-1,-2)\n",
    "\n",
    "\"\"\""
   ]
  },
  {
   "cell_type": "markdown",
   "metadata": {
    "application/vnd.databricks.v1+cell": {
     "cellMetadata": {
      "byteLimit": 2048000,
      "rowLimit": 10000
     },
     "inputWidgets": {},
     "nuid": "e28fb6dd-8a73-430e-837e-ded50cc27007",
     "showTitle": false,
     "title": ""
    }
   },
   "source": [
    "### Tabela: TD_plano_s"
   ]
  },
  {
   "cell_type": "code",
   "execution_count": 0,
   "metadata": {
    "application/vnd.databricks.v1+cell": {
     "cellMetadata": {
      "byteLimit": 2048000,
      "rowLimit": 10000
     },
     "inputWidgets": {},
     "nuid": "b6e27870-8921-4f03-a394-1cfaf7b3a1aa",
     "showTitle": false,
     "title": ""
    }
   },
   "outputs": [],
   "source": [
    "sql = \"\"\"\n",
    "\n",
    "create or replace table mldata.default.app_mobile_TD_plano_s as\n",
    "\n",
    "SELECT DISTINCT\n",
    " PS.SK_TD_PLANO_SAUDE\n",
    ",PS.CO_PLANO_SAUDE\n",
    ",CASE WHEN PS.DS_PLANO_SAUDE IN ('RECIPROCIDADE I','RECIPROCIDADE II')\n",
    " THEN 'RECIPROCIDADE' ELSE PS.DS_PLANO_SAUDE\n",
    " END AS DS_PLANO_SAUDE\n",
    ",CASE WHEN PS.DS_PLANO_SAUDE_CONTABIL IN ('RECIPROCIDADE I','RECIPROCIDADE II')\n",
    " THEN 'RECIPROCIDADE' ELSE PS.DS_PLANO_SAUDE_CONTABIL\n",
    " END AS DS_PLANO_SAUDE_CONTABIL\n",
    "\n",
    "FROM GOLD.DW.TD_PLANO_SAUDE PS\n",
    "\n",
    "WHERE PS.CO_PLANO_SAUDE NOT IN (-1,-2)\n",
    "\"\"\""
   ]
  },
  {
   "cell_type": "markdown",
   "metadata": {
    "application/vnd.databricks.v1+cell": {
     "cellMetadata": {
      "byteLimit": 2048000,
      "rowLimit": 10000
     },
     "inputWidgets": {},
     "nuid": "50a91dfd-f769-4a2b-90af-942d53999414",
     "showTitle": false,
     "title": ""
    }
   },
   "source": [
    "### Tabela: TD_tempo"
   ]
  },
  {
   "cell_type": "code",
   "execution_count": 0,
   "metadata": {
    "application/vnd.databricks.v1+cell": {
     "cellMetadata": {
      "byteLimit": 2048000,
      "rowLimit": 10000
     },
     "inputWidgets": {},
     "nuid": "fec9a9f0-d2ec-42dc-a1e8-9e18f09a8574",
     "showTitle": false,
     "title": ""
    }
   },
   "outputs": [],
   "source": [
    "sql = \"\"\"\n",
    "\n",
    "create or replace table mldata.default.app_mobile_TD_tempo as\n",
    "\n",
    "SELECT DISTINCT\n",
    " TP.SK_TD_TEMPO\n",
    ",TP.NU_MES\n",
    ",TP.DS_MES\n",
    ",TP.NU_ANO\n",
    ", TP.DT_COMPLETA\n",
    "\n",
    "FROM GOLD.DW.TD_TEMPO TP\n",
    "\n",
    "WHERE TP.NU_ANO NOT IN (-1,-2,-3)\n",
    "\"\"\""
   ]
  },
  {
   "cell_type": "markdown",
   "metadata": {
    "application/vnd.databricks.v1+cell": {
     "cellMetadata": {
      "byteLimit": 2048000,
      "rowLimit": 10000
     },
     "inputWidgets": {},
     "nuid": "f33698c6-94ff-4b21-8ad5-87e81714bc70",
     "showTitle": false,
     "title": ""
    }
   },
   "source": [
    "### Tabela: TF_app_mobile"
   ]
  },
  {
   "cell_type": "code",
   "execution_count": 0,
   "metadata": {
    "application/vnd.databricks.v1+cell": {
     "cellMetadata": {
      "byteLimit": 2048000,
      "rowLimit": 10000
     },
     "inputWidgets": {},
     "nuid": "24add2e1-22b5-4da5-b5ea-8cb54806436a",
     "showTitle": false,
     "title": ""
    }
   },
   "outputs": [],
   "source": [
    "sql = \"\"\"\n",
    "\n",
    "create or replace table mldata.default.app_mobile_TF_app_mobile as\n",
    "\n",
    "SELECT\n",
    " TF.SK_TD_TEMPO_REGISTRO\n",
    ",TF.SK_TD_PLANO_SAUDE\n",
    ",TF.SK_TD_PARTICIPANTE\n",
    ",TF.ST_CADASTRO_SOC\n",
    ",MAX(TF.TS_CARGA) AS DT_ATUALIZACAO\n",
    ",SUM(TF.QT_REGISTRO) AS QTD\n",
    "\n",
    "FROM GOLD.DW.TF_APP_MOBILE_SAUDE TF\n",
    "JOIN GOLD.DW.TD_PARTICIPANTE PA ON PA.SK_TD_PARTICIPANTE = TF.SK_TD_PARTICIPANTE\n",
    "\n",
    "WHERE TF.ST_CADASTRO_SOC = 'S'\n",
    "AND PA.DT_CANCELAMENTO_BENEFICIARIO IS NULL\n",
    "\n",
    "GROUP BY\n",
    " TF.SK_TD_TEMPO_REGISTRO\n",
    ",TF.SK_TD_PLANO_SAUDE\n",
    ",TF.SK_TD_PARTICIPANTE\n",
    ",TF.ST_CADASTRO_SOC\n",
    "\"\"\""
   ]
  },
  {
   "cell_type": "markdown",
   "metadata": {
    "application/vnd.databricks.v1+cell": {
     "cellMetadata": {
      "byteLimit": 2048000,
      "rowLimit": 10000
     },
     "inputWidgets": {},
     "nuid": "63474ed1-a7a4-458d-bdd3-04d8c7f751b1",
     "showTitle": false,
     "title": ""
    }
   },
   "source": [
    "### Tabela: TF_populacao"
   ]
  },
  {
   "cell_type": "code",
   "execution_count": 0,
   "metadata": {
    "application/vnd.databricks.v1+cell": {
     "cellMetadata": {
      "byteLimit": 2048000,
      "rowLimit": 10000
     },
     "inputWidgets": {},
     "nuid": "bed2244e-dfb4-49b7-b91f-e6e20be4a16e",
     "showTitle": false,
     "title": ""
    }
   },
   "outputs": [],
   "source": [
    "sql = \"\"\"\n",
    "\n",
    "create or replace table mldata.default.app_mobile_TF_populacao as\n",
    "\n",
    "SELECT\n",
    "TF.SK_TD_PLANO_SAUDE,\n",
    "TF.SK_TD_TEMPO,\n",
    "TF.SK_TD_PARTICIPANTE,\n",
    "SUM(TF.QT_POPULACAO_ATIVA) QT_ATIVOS,\n",
    "PA.NU_CPF_BENEFICIARIO\n",
    "\n",
    "FROM GOLD.DW.TF_POPULACAO TF\n",
    "INNER JOIN GOLD.DW.TD_PARTICIPANTE PA ON PA.SK_TD_PARTICIPANTE = TF.SK_TD_PARTICIPANTE\n",
    "\n",
    "WHERE TF.ANO_MES_PROCESSAMENTO = DATE_FORMAT(ADD_MONTHS(CURRENT_DATE, - 1) , 'yyyyMM')\n",
    "\n",
    "GROUP BY\n",
    "TF.SK_TD_PLANO_SAUDE,\n",
    "TF.SK_TD_TEMPO,\n",
    "TF.SK_TD_PARTICIPANTE,\n",
    "PA.NU_CPF_BENEFICIARIO\n",
    "\n",
    "\"\"\""
   ]
  },
  {
   "cell_type": "markdown",
   "metadata": {
    "application/vnd.databricks.v1+cell": {
     "cellMetadata": {
      "byteLimit": 2048000,
      "rowLimit": 10000
     },
     "inputWidgets": {},
     "nuid": "42e44dde-3b13-48d4-a971-728be1260645",
     "showTitle": false,
     "title": ""
    }
   },
   "source": [
    "### Tabela: Tamanho_Pop"
   ]
  },
  {
   "cell_type": "code",
   "execution_count": 0,
   "metadata": {
    "application/vnd.databricks.v1+cell": {
     "cellMetadata": {
      "byteLimit": 2048000,
      "rowLimit": 10000
     },
     "inputWidgets": {},
     "nuid": "2a202682-0253-44dc-bf75-67e219c6ec87",
     "showTitle": false,
     "title": ""
    }
   },
   "outputs": [],
   "source": [
    "sql = \"\"\"\n",
    "\n",
    "create or replace table mldata.default.app_mobile_Tamanho_Pop as\n",
    "\n",
    "WITH TABELA_FINAL AS (\n",
    "\n",
    "WITH TABELA AS (\n",
    "SELECT\n",
    "TF.SK_TD_PLANO_SAUDE,\n",
    "TF.SK_TD_TEMPO,\n",
    "TF.SK_TD_PARTICIPANTE,\n",
    "SUM(TF.QT_POPULACAO_ATIVA) QT_ATIVOS,\n",
    "PA.NU_CPF_BENEFICIARIO,\n",
    "TP.DT_COMPLETA,\n",
    "PA.SG_UF_RESIDENCIAL,\n",
    "PS.DS_PLANO_SAUDE_CONTABIL,\n",
    "ROUND(MONTHS_BETWEEN(NOW(), PA.DT_NASCIMENTO_BENEFICIARIO)/12) AS IDADE\n",
    "\n",
    "FROM GOLD.DW.TF_POPULACAO                            TF\n",
    "INNER JOIN GOLD.DW.TD_PARTICIPANTE                   PA ON PA.SK_TD_PARTICIPANTE = TF.SK_TD_PARTICIPANTE\n",
    "JOIN GOLD.DW.TD_TEMPO                                TP ON TP.SK_TD_TEMPO = TF.SK_TD_TEMPO\n",
    "JOIN GOLD.DW.TD_PLANO_SAUDE                          PS ON PS.SK_TD_PLANO_SAUDE = TF.SK_TD_PLANO_SAUDE\n",
    "\n",
    "WHERE TF.ANO_MES_PROCESSAMENTO >= DATE_FORMAT(ADD_MONTHS(CURRENT_DATE, - 74) , 'yyyyMM')\n",
    "AND PS.DS_PLANO_SAUDE_CONTABIL NOT LIKE \"%RECIPROCIDADE%\"\n",
    "\n",
    "GROUP BY\n",
    "\n",
    "TF.SK_TD_PLANO_SAUDE,\n",
    "TF.SK_TD_TEMPO,\n",
    "TF.SK_TD_PARTICIPANTE,\n",
    "PA.NU_CPF_BENEFICIARIO,\n",
    "TP.DT_COMPLETA,\n",
    "PA.SG_UF_RESIDENCIAL,\n",
    "PS.DS_PLANO_SAUDE_CONTABIL,\n",
    "IDADE)\n",
    "\n",
    "SELECT \n",
    "TABELA.SG_UF_RESIDENCIAL AS UF,\n",
    "TABELA.DS_PLANO_SAUDE_CONTABIL AS PLANO,\n",
    "TABELA.IDADE,\n",
    "TABELA.DT_COMPLETA,\n",
    "count(*) AS TOTAL_POP\n",
    "\n",
    "FROM TABELA\n",
    "\n",
    "GROUP BY \n",
    "TABELA.SG_UF_RESIDENCIAL,\n",
    "TABELA.DS_PLANO_SAUDE_CONTABIL,\n",
    "TABELA.IDADE,\n",
    "TABELA.DT_COMPLETA)\n",
    "\n",
    "SELECT *\n",
    "\n",
    "FROM TABELA_FINAL\n",
    "WHERE MONTH(TABELA_FINAL.DT_COMPLETA) = 12\n",
    "   OR (MONTH(TABELA_FINAL.DT_COMPLETA) = MONTH(CURRENT_DATE()) -1 AND YEAR(TABELA_FINAL.DT_COMPLETA) = YEAR(CURRENT_DATE()))\n",
    "\n",
    "\"\"\""
   ]
  }
 ],
 "metadata": {
  "application/vnd.databricks.v1+notebook": {
   "dashboards": [],
   "language": "python",
   "notebookMetadata": {
    "mostRecentlyExecutedCommandWithImplicitDF": {
     "commandId": 3683220790885463,
     "dataframes": [
      "_sqldf"
     ]
    },
    "pythonIndentUnit": 4
   },
   "notebookName": "App mobile e Site Cassi",
   "widgets": {}
  }
 },
 "nbformat": 4,
 "nbformat_minor": 0
}
